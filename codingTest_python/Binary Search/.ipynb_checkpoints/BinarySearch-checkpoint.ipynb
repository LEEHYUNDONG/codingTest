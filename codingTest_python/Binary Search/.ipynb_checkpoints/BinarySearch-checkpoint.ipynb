{
 "cells": [
  {
   "cell_type": "code",
   "execution_count": 2,
   "id": "d6a1ad71",
   "metadata": {},
   "outputs": [
    {
     "name": "stdout",
     "output_type": "stream",
     "text": [
      "5\n",
      "8 3 7 9 2\n",
      "3\n",
      "5 7 9\n",
      "no yes yes "
     ]
    }
   ],
   "source": [
    "# 부품 찾기\n",
    "def binary_search(array, target, start, end):\n",
    "    while start <= end:\n",
    "        mid = (start+end)//2\n",
    "        if array[mid] == target:\n",
    "            return mid\n",
    "        elif array[mid] > target:\n",
    "            end = mid - 1\n",
    "        else:\n",
    "            start = mid + 1\n",
    "    return None\n",
    "\n",
    "n = int(input())\n",
    "array = list(map(int, input().split()))\n",
    "array.sort()\n",
    "m = int(input())\n",
    "data = list(map(int, input().split()))\n",
    "\n",
    "for i in range(m):\n",
    "    res = binary_search(array, data[i], 0, n-1)\n",
    "    if res == None:\n",
    "        print('no', end =' ')\n",
    "    else:\n",
    "        print('yes', end = ' ')"
   ]
  },
  {
   "cell_type": "code",
   "execution_count": 19,
   "id": "3a40ff51",
   "metadata": {},
   "outputs": [
    {
     "name": "stdout",
     "output_type": "stream",
     "text": [
      "4 6\n",
      "19 15 10 17\n",
      "15\n"
     ]
    }
   ],
   "source": [
    "# 떡볶이 떡 만들기\n",
    "n, m = map(int, input().split())\n",
    "data = list(map(int, input().split()))\n",
    "start = 0\n",
    "end = max(data)\n",
    "answer = 0\n",
    "while start <= end:\n",
    "    mid = (start+end)//2\n",
    "    res = 0\n",
    "    for i in data:\n",
    "        if i > mid:\n",
    "            res += i - mid\n",
    "    if res < m:\n",
    "        end = mid - 1\n",
    "    else:\n",
    "        answer = mid\n",
    "        start = mid + 1\n",
    "print(answer)"
   ]
  },
  {
   "cell_type": "code",
   "execution_count": 5,
   "id": "0ef8556e",
   "metadata": {},
   "outputs": [
    {
     "name": "stdout",
     "output_type": "stream",
     "text": [
      "7 4\n",
      "1 1 2 2 2 2 3\n",
      "-1\n"
     ]
    }
   ],
   "source": [
    "#정렬된 배열에서 특정 수의 개수 구하기\n",
    "def binary_search(array, target, start, end):\n",
    "    while start <= end:\n",
    "        mid = (start + end)//2\n",
    "        if array[mid] == target:\n",
    "            return mid\n",
    "        elif array[mid] > target:\n",
    "            end = mid - 1\n",
    "        else:\n",
    "            start = mid + 1\n",
    "    return None\n",
    "\n",
    "n, m = map(int, input().split())\n",
    "data = list(map(int, input().split()))\n",
    "if max(data) < m:\n",
    "    print(-1)\n",
    "else:\n",
    "    idx = binary_search(data, m, 0, n-1)\n",
    "    if idx == None:\n",
    "        print(-1)\n",
    "    else:\n",
    "        i = j = idx\n",
    "        while data[i] == m:\n",
    "            i -= 1\n",
    "        while data[j] == m:\n",
    "            j += 1\n",
    "        \n",
    "        print(j - i - 1)"
   ]
  },
  {
   "cell_type": "code",
   "execution_count": 8,
   "id": "9bf4bde5",
   "metadata": {},
   "outputs": [
    {
     "name": "stdout",
     "output_type": "stream",
     "text": [
      "7\n",
      "-15 -4 3 8 9 13 15\n",
      "-1\n"
     ]
    }
   ],
   "source": [
    "# 고정점 찾기\n",
    "def binary_search(array, start, end):\n",
    "    while start <= end:\n",
    "        mid = (start + end) // 2\n",
    "        if array[mid] == mid:\n",
    "            return mid\n",
    "        elif array[mid] > mid:\n",
    "            end = mid - 1\n",
    "        else:\n",
    "            start = mid + 1\n",
    "    return -1\n",
    "n = int(input())\n",
    "data = list(map(int, input().split()))\n",
    "res = binary_search(data, 0, n-1)\n",
    "print(res)"
   ]
  },
  {
   "cell_type": "code",
   "execution_count": 16,
   "id": "9dca8fd6",
   "metadata": {},
   "outputs": [
    {
     "name": "stdout",
     "output_type": "stream",
     "text": [
      "5 3\n",
      "1\n",
      "2\n",
      "8\n",
      "4\n",
      "9\n",
      "3\n"
     ]
    }
   ],
   "source": [
    "# 공유기 설치 못품\n",
    "def binary_search(array, start, end):\n",
    "    cnt = 0\n",
    "    while start <= end:\n",
    "        cnt += 1\n",
    "        mid = (start + end) // 2\n",
    "        if array[mid] == mid:\n",
    "            return cnt\n",
    "        elif array[mid] > mid:\n",
    "            end = mid - 1\n",
    "        else:\n",
    "            start = mid + 1\n",
    "    return cnt\n",
    "\n",
    "n, c = map(int, input().split())\n",
    "data = [int(input()) for _ in range(n)]\n",
    "data.sort()\n",
    "res = binary_search(data, 1, data[n-1]-data[0])\n",
    "print(res)"
   ]
  },
  {
   "cell_type": "code",
   "execution_count": 21,
   "id": "75fa8ac9",
   "metadata": {},
   "outputs": [
    {
     "name": "stdout",
     "output_type": "stream",
     "text": [
      "5 3\n",
      "1\n",
      "2\n",
      "8\n",
      "4\n",
      "9\n",
      "*mid, start, end : 4 1 8\n",
      "mid, start, end : 4 1 3\n",
      "*mid, start, end : 2 1 3\n",
      "mid, start, end : 2 3 3\n",
      "*mid, start, end : 3 3 3\n",
      "mid, start, end : 3 4 3\n",
      "3\n"
     ]
    }
   ],
   "source": [
    "# 공유기 설치 # 집에서 쓰면서 작업해보기\n",
    "n, c = map(int, input().split())\n",
    "\n",
    "data = [int(input()) for _ in range(n)]\n",
    "data.sort()\n",
    "\n",
    "start = 1 # 가능한 최소 거리\n",
    "end = data[n-1] - data[0] # 가능한 최대 거리\n",
    "result = 0\n",
    "\n",
    "while start <= end:\n",
    "    mid = (start + end) // 2 # mid는 가장 인접한 두 공유기 사이의 거리를 의미\n",
    "    # 첫째 집에는 무조건 공유기를 설치한다고 가정\n",
    "    value = data[0]\n",
    "    count = 1\n",
    "    print(\"*mid, start, end :\", mid, start, end)\n",
    "    # 현재의 mid값을 이용해 공유기를 설치하기\n",
    "    for i in range(1, n):\n",
    "        if data[i] >= value + mid:\n",
    "            count += 1\n",
    "            value = data[i]\n",
    "    if count >= c: # c개 이상의 공유기를 설치할 수 있는 경우, 거리를 증가시키기\n",
    "        start = mid + 1\n",
    "        result = mid # 최적의 결과를 저장\n",
    "    else: # c개 이상의 공유기를 설치할 수 없는 경우 거리를 감소시킨다.\n",
    "        end = mid - 1\n",
    "    print(\"mid, start, end :\", mid, start, end)\n",
    "print(result)"
   ]
  },
  {
   "cell_type": "code",
   "execution_count": null,
   "id": "34355cf4",
   "metadata": {},
   "outputs": [],
   "source": []
  }
 ],
 "metadata": {
  "kernelspec": {
   "display_name": "Python 3 (ipykernel)",
   "language": "python",
   "name": "python3"
  },
  "language_info": {
   "codemirror_mode": {
    "name": "ipython",
    "version": 3
   },
   "file_extension": ".py",
   "mimetype": "text/x-python",
   "name": "python",
   "nbconvert_exporter": "python",
   "pygments_lexer": "ipython3",
   "version": "3.9.6"
  }
 },
 "nbformat": 4,
 "nbformat_minor": 5
}
