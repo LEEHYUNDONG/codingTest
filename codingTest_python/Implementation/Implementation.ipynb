{
 "cells": [
  {
   "cell_type": "code",
   "execution_count": 22,
   "metadata": {},
   "outputs": [
    {
     "name": "stdout",
     "output_type": "stream",
     "text": [
      "3\n",
      "R R R R R R R R R U U U D D D D D L L L L L\n",
      "3 1\n"
     ]
    }
   ],
   "source": [
    "# 상하 좌우\n",
    "\n",
    "n = int(input()) # N x N 정방 행렬 사이즈의 공간\n",
    "move = map(str, input().split()) # 어떻게 이동 시킬지 계산\n",
    "move = list(move)\n",
    "loc = [1, 1]\n",
    "\n",
    "for i in range(len(move)):\n",
    "    if (move[i] == 'R') & (loc[1] < n):\n",
    "        loc[1] += 1\n",
    "    elif (move[i] == 'D') &  (loc[0] < n):\n",
    "        loc[0] += 1\n",
    "    elif (move[i] == 'L') &  (loc[1] > 1):\n",
    "        loc[1] -= 1\n",
    "    elif (move[i] == 'U') &  (loc[0] > 1):\n",
    "        loc[0] -= 1\n",
    "\n",
    "print(loc[0], loc[1])\n",
    "\n",
    "#TEST CASE\n",
    "# 6\n",
    "# R R R U U U D D D D D L L L\n",
    "# [6, 1]\n",
    "\n",
    "# 3\n",
    "# R R R R R R R R R U U U D D D D D L L L L L\n",
    "# 3 1\n"
   ]
  },
  {
   "cell_type": "code",
   "execution_count": 24,
   "metadata": {},
   "outputs": [
    {
     "name": "stdout",
     "output_type": "stream",
     "text": [
      "3\n",
      "R R R R R R R R R U U U D D D D D L L L L L\n",
      "3 1\n"
     ]
    }
   ],
   "source": [
    "# 상하 좌우 답안\n",
    "n = int(input())\n",
    "x, y = 1, 1\n",
    "plans = input().split()\n",
    "\n",
    "dx = [0, 0, -1, 1]\n",
    "dy = [-1, 1, 0, 0]\n",
    "move_types = ['L', 'R', 'U', 'D']\n",
    "\n",
    "for plan in plans:\n",
    "    for i in range(len(move_types)):\n",
    "        if plan == move_types[i]:\n",
    "            nx = x + dx[i]\n",
    "            ny = y + dy[i]\n",
    "    if nx < 1 or ny < 1 or nx > n or ny >n:\n",
    "        continue\n",
    "    x, y = nx, ny\n",
    "\n",
    "print(x, y)"
   ]
  },
  {
   "cell_type": "code",
   "execution_count": 32,
   "metadata": {},
   "outputs": [
    {
     "name": "stdout",
     "output_type": "stream",
     "text": [
      "5\n",
      "11475\n"
     ]
    }
   ],
   "source": [
    "# 시각\n",
    "N = int(input())\n",
    "cnt = 0\n",
    "# N시 59분 59초 까지\n",
    "for i in range(N+1):\n",
    "    if (i == 3) or (i % 10 == 3):\n",
    "        cnt += 60 * 60\n",
    "        continue\n",
    "    for j in range(60):\n",
    "        if (j == 3) or (j % 10 == 3) or (j // 10 == 3):\n",
    "            cnt += 60\n",
    "            continue\n",
    "        for k in range(60):\n",
    "            if (k == 3) or (k % 10 == 3) or (k //10 == 3):\n",
    "                cnt += 1\n",
    "                continue\n",
    "\n",
    "\n",
    "print(cnt)"
   ]
  },
  {
   "cell_type": "code",
   "execution_count": null,
   "metadata": {},
   "outputs": [],
   "source": [
    "# 시각\n",
    "# 답안\n",
    "h = int(input())\n",
    "\n",
    "count = 0\n",
    "for i in range(h+1):\n",
    "    for j in range(60):\n",
    "        for k in range(60):\n",
    "            if '3' in str(i) + str(j) + str(k):\n",
    "                count += 1\n",
    "print(count)\n"
   ]
  },
  {
   "cell_type": "code",
   "execution_count": 54,
   "metadata": {},
   "outputs": [
    {
     "name": "stdout",
     "output_type": "stream",
     "text": [
      "c2\n",
      "6\n"
     ]
    }
   ],
   "source": [
    "# 왕실의 나이트\n",
    "\n",
    "where = input()\n",
    "move =[[-2, -1], [-1, -2], [2, -1], [2, 1], [-2, 1], [1, 2], [-1, 2], [1, -2]]\n",
    "x, y = ord(where[0])-ord('a')+1, int(where[1])\n",
    "loc = [x, y]\n",
    "cnt = 0\n",
    "\n",
    "\n",
    "for i in range(8):\n",
    "    move[i][0] += loc[0]\n",
    "    move[i][1] += loc[1]\n",
    "    if move[i][0] > 0 and (move[i][0] <= 8) and ((move[i][1] > 0) and (move[i][1] <= 8)):\n",
    "        cnt += 1\n",
    "print(cnt)"
   ]
  },
  {
   "cell_type": "code",
   "execution_count": 7,
   "metadata": {
    "scrolled": true
   },
   "outputs": [
    {
     "name": "stdout",
     "output_type": "stream",
     "text": [
      "5 5\n",
      "2 2 3\n",
      "1 1 1 1 1\n",
      "1 0 0 0 1\n",
      "1 0 0 1 1\n",
      "1 1 1 1 1\n",
      "1 0 0 0 1 \n",
      "5\n"
     ]
    }
   ],
   "source": [
    "#게임 개발\n",
    "n, m = map(int, input().split())\n",
    "direction = list(map(int, input().split()))\n",
    "dx = [0, 1, 0, -1] # 북 동 남 서\n",
    "dy = [-1, 0, 1, 0]\n",
    "mp = []\n",
    "cnt = 1\n",
    "loc = [direction[0], direction[1]] # 좌표 공간\n",
    "\n",
    "# map 입력 받기\n",
    "for i in range(n):\n",
    "    tmp = list(map(int, input().split())) # 임시 저장 공간\n",
    "    mp.append(tmp)\n",
    "\n",
    "flag = 0\n",
    "toward = direction[2]\n",
    "mp[loc[0]][loc[1]] = 1\n",
    "\n",
    "while 1:\n",
    "    # 방향을 찾는다.\n",
    "    flag += 1\n",
    "    toward -= 1\n",
    "    toward %= 4\n",
    "    loc[0] += dx[toward]\n",
    "    loc[1] += dy[toward]\n",
    "    \n",
    "    if mp[loc[0]][loc[1]] == 0:\n",
    "        cnt += 1\n",
    "        flag = 0\n",
    "        mp[loc[0]][loc[1]] = 1\n",
    "    elif mp[loc[0]][loc[1]] == 1:\n",
    "        loc[0] -= dx[toward]\n",
    "        loc[1] -= dy[toward]\n",
    "    \n",
    "    if flag == 4:\n",
    "        break\n",
    "print(cnt)"
   ]
  },
  {
   "cell_type": "code",
   "execution_count": null,
   "metadata": {},
   "outputs": [],
   "source": [
    "#게임 개발\n",
    "n, m = map(int, input().split())\n",
    "direction = list(map(int, input().split()))\n",
    "dx = [0, 1, 0, -1] # 북 동 남 서\n",
    "dy = [-1, 0, 1, 0]\n",
    "mp = []\n",
    "cnt = 1\n",
    "loc = [direction[0], direction[1]] # 좌표 공간\n",
    "\n",
    "# map 입력 받기\n",
    "for i in range(n):\n",
    "    tmp = list(map(int, input().split())) # 임시 저장 공간\n",
    "    mp.append(tmp)\n",
    "\n",
    "flag = 0\n",
    "toward = direction[2]\n",
    "mp[loc[0]][loc[1]] = 1\n",
    "\n",
    "while 1:\n",
    "    # 방향을 찾는다.\n",
    "    flag += 1\n",
    "    toward -= 1\n",
    "    toward %= 4\n",
    "    loc[0] += dx[toward]\n",
    "    loc[1] += dy[toward]\n",
    "    \n",
    "    if mp[loc[0]][loc[1]] == 0:\n",
    "        cnt += 1\n",
    "        flag = 0\n",
    "        mp[loc[0]][loc[1]] = 1\n",
    "    elif mp[loc[0]][loc[1]] == 1:\n",
    "        loc[0] -= dx[toward]\n",
    "        loc[1] -= dy[toward]\n",
    "    \n",
    "    if flag == 4:\n",
    "        break\n",
    "print(cnt)\n",
    "# test case\n",
    "# 5 5\n",
    "# 2 2 3\n",
    "# 1 1 1 1 1\n",
    "# 1 0 0 0 1\n",
    "# 1 0 0 1 1\n",
    "# 1 1 1 1 1\n",
    "# 1 0 0 0 1 \n",
    "# 5"
   ]
  },
  {
   "cell_type": "code",
   "execution_count": 12,
   "metadata": {},
   "outputs": [
    {
     "name": "stdout",
     "output_type": "stream",
     "text": [
      "7755\n",
      "READY\n"
     ]
    }
   ],
   "source": [
    "# 러키 스트레이트\n",
    "num = input()\n",
    "a, b = num[:int(len(num)/2)], num[int(len(num)/2):]\n",
    "tot_a, tot_b = 0, 0\n",
    "\n",
    "for i in range(int(len(num)/2)):\n",
    "    tot_a += int(a[i])\n",
    "    tot_b += int(b[i])\n",
    "if tot_a == tot_b:\n",
    "    print('LUCKY')\n",
    "else:\n",
    "    print('READY')\n",
    "    "
   ]
  },
  {
   "cell_type": "code",
   "execution_count": 40,
   "metadata": {},
   "outputs": [
    {
     "name": "stdout",
     "output_type": "stream",
     "text": [
      "AJKDLSI412K4JSJ9D\n",
      "ADDIJJJKKLSS20\n"
     ]
    }
   ],
   "source": [
    "# 문자열 재정렬\n",
    "string = input()\n",
    "num = ['0', '1', '2', '3', '4', '5', '6', '7', '8', '9']\n",
    "# 문자열 리스트만 받기\n",
    "str_list = [x for x in string if x not in num]\n",
    "str_list = sorted(str_list)\n",
    "#숫자만 받기\n",
    "num_list = [int(x) for x in string if x in num]\n",
    "res = \"\".join(str_list)\n",
    "# 결과를 숫자와 합치기\n",
    "res += str(sum(num_list))\n",
    "\n",
    "print(res)"
   ]
  },
  {
   "cell_type": "code",
   "execution_count": 79,
   "metadata": {
    "collapsed": true
   },
   "outputs": [
    {
     "name": "stdout",
     "output_type": "stream",
     "text": [
      "aabbcc\n",
      "----------------\n",
      "['a', 'a', 'b', 'b', 'c', 'c']\n",
      "2a2b\n",
      "----------------\n",
      "['aa', 'bb', 'cc']\n",
      "aabb\n",
      "----------------\n",
      "['aab', 'bcc']\n",
      "aab\n",
      "----------------\n",
      "['aabb']\n",
      "\n",
      "----------------\n",
      "['aabbc']\n",
      "\n"
     ]
    }
   ],
   "source": [
    "# 문자열 압축\n",
    "s = input()\n",
    "cnt = 0\n",
    "#문자열 시작\n",
    "d = 0\n",
    "res = \"\"\n",
    "to = 0\n",
    "tmp = []\n",
    "\n",
    "for i in range(len(s)-1):\n",
    "    # 자르는 단위\n",
    "    cnt = 1\n",
    "    d = 0\n",
    "    to += 1\n",
    "    res = \"\"\n",
    "    while True:\n",
    "        if d+to > len(s):\n",
    "            break\n",
    "        #print(s[d:d+to])\n",
    "        tmp.append(s[d:d+to])\n",
    "        d += to\n",
    "    print(\"----------------\")\n",
    "    print(tmp)\n",
    "    for j in range(1, len(tmp)):\n",
    "        pre, cur = tmp[j-1], tmp[j]\n",
    "        if pre == cur:\n",
    "            cnt += 1\n",
    "        else:\n",
    "            if cnt != 1:\n",
    "                res += str(cnt)\n",
    "            res += pre\n",
    "            cnt = 1\n",
    "    print(res)\n",
    "    tmp.clear()\n",
    "#         for part in s[d+to:]:\n",
    "#             if part == s[d:d+to]:\n",
    "#                 count+=1\n",
    "#         print(count, s[d:d+to])\n",
    "    \n",
    "        \n",
    "        "
   ]
  },
  {
   "cell_type": "code",
   "execution_count": 23,
   "metadata": {},
   "outputs": [
    {
     "name": "stdout",
     "output_type": "stream",
     "text": [
      "['x', 'a', 'b', 'a', 'b', 'c', 'd', 'c', 'd', 'a', 'b', 'a', 'b', 'c', 'd', 'c', 'd']\n",
      "['xa', 'ba', 'bc', 'dc', 'da', 'ba', 'bc', 'dc', 'd']\n",
      "['xab', 'abc', 'dcd', 'aba', 'bcd', 'cd']\n",
      "['xaba', 'bcdc', 'daba', 'bcdc', 'd']\n",
      "['xabab', 'cdcda', 'babcd', 'cd']\n",
      "['xababc', 'dcdaba', 'bcdcd']\n",
      "['xababcd', 'cdababc', 'dcd']\n",
      "['xababcdc', 'dababcdc', 'd']\n",
      "['xababcdcd', 'ababcdcd']\n",
      "['xababcdcda', 'babcdcd']\n",
      "['xababcdcdab', 'abcdcd']\n",
      "['xababcdcdaba', 'bcdcd']\n",
      "['xababcdcdabab', 'cdcd']\n",
      "['xababcdcdababc', 'dcd']\n",
      "['xababcdcdababcd', 'cd']\n",
      "['xababcdcdababcdc', 'd']\n",
      "17\n"
     ]
    }
   ],
   "source": [
    "# 문자열 압축 \n",
    "def solution(s):\n",
    "    answer =len(s)\n",
    "    res = [answer]\n",
    "    for i in range(1, len(s)):\n",
    "        comp = \"\"\n",
    "        count = 1\n",
    "        splited = [s[size:i+size] for size in range(0, len(s), i)]\n",
    "        print(splited)\n",
    "        for j in range(1, len(splited)):\n",
    "            pre, cur = splited[j-1], splited[j]\n",
    "            if pre == cur:\n",
    "                count += 1\n",
    "            else:\n",
    "                comp += (str(count) + pre) if count > 1 else pre\n",
    "                count = 1\n",
    "        comp += (str(count) + splited[-1]) if count > 1 else splited[-1]\n",
    "        res.append(len(comp))\n",
    "    #print(res)\n",
    "    answer = min(res)\n",
    "    print(answer)\n",
    "solution('xababcdcdababcdcd')"
   ]
  },
  {
   "cell_type": "code",
   "execution_count": null,
   "metadata": {},
   "outputs": [],
   "source": [
    "# 문자열 압축\n",
    "def compress(text, tok_len):\n",
    "    words = [text[i:i+tok_len] for i in range(0, len(text), tok_len)]\n",
    "    res = []\n",
    "    cur_word = words[0]\n",
    "    cur_cnt = 1\n",
    "    for a, b in zip(words, words[1:] + ['']):\n",
    "        if a == b:\n",
    "            cur_cnt += 1\n",
    "        else:\n",
    "            res.append([cur_word, cur_cnt])\n",
    "            cur_word = b\n",
    "            cur_cnt = 1\n",
    "    return sum(len(word) + (len(str(cnt)) if cnt > 1 else 0) for word, cnt in res)\n",
    "\n",
    "def solution(text):\n",
    "    return min(compress(text, tok_len) for tok_len in list(range(1, int(len(text)/2) + 1)) + [len(text)])\n",
    "\n",
    "a = [\n",
    "    \"aabbaccc\",\n",
    "    \"ababcdcdababcdcd\",\n",
    "    \"abcabcdede\",\n",
    "    \"abcabcabcabcdededededede\",\n",
    "    \"xababcdcdababcdcd\",\n",
    "\n",
    "    'aaaaaa',\n",
    "]\n",
    "\n",
    "for x in a:\n",
    "    print(solution(x))"
   ]
  },
  {
   "cell_type": "code",
   "execution_count": 5,
   "metadata": {},
   "outputs": [
    {
     "name": "stdout",
     "output_type": "stream",
     "text": [
      "True\n"
     ]
    }
   ],
   "source": [
    "# 자물쇠와 열쇠\n",
    "# 문제 예제\n",
    "# 못품\n",
    "\n",
    "key = [\n",
    "    [0, 0, 0],\n",
    "    [1, 0, 0],\n",
    "    [0, 1, 1]\n",
    "]\n",
    "lock = [\n",
    "    [1, 1, 1],\n",
    "    [1, 1, 0],\n",
    "    [1, 0, 1]\n",
    "]\n",
    "\n",
    "def attach(x, y, M, key, board):\n",
    "    for i in range(M):\n",
    "        for j in range(M):\n",
    "            board[x+i][y+j] += key[i][j]\n",
    "\n",
    "def detach(x, y, M, key, board):\n",
    "    for i in range(M):\n",
    "        for j in range(M):\n",
    "            board[x+i][y+j] -= key[i][j]\n",
    "            \n",
    "def rotate(key):\n",
    "    return list(zip(*key[::-1]))\n",
    "    \n",
    "def check_key(board, M, N):\n",
    "    for i in range(N):\n",
    "        for j in range(N):\n",
    "            if board[M+i][M+j] != 1:\n",
    "                return False\n",
    "    return True\n",
    "\n",
    "def solution(key, lock):\n",
    "    M, N = len(key), len(lock)\n",
    "\n",
    "    board = [[0] * (M*2 + N) for _ in range(M*2 + N)]\n",
    "    # 자물쇠 중앙 배치\n",
    "    for i in range(N):\n",
    "        for j in range(N):\n",
    "            board[M+i][M+j] = lock[i][j]\n",
    "\n",
    "    rotated_key = key\n",
    "    # 모든 방향 (4번 루프)\n",
    "    for _ in range(4):\n",
    "        rotated_key = rotate(rotated_key)\n",
    "        for x in range(1, M+N):\n",
    "            for y in range(1, M+N):\n",
    "                # 열쇠 넣어보기\n",
    "                attach(x, y, M, rotated_key, board)\n",
    "                # lock 가능 check\n",
    "                if(check_key(board, M, N)):\n",
    "                    return True\n",
    "                # 열쇠 빼기\n",
    "                detach(x, y, M, rotated_key, board)\n",
    "                \n",
    "    return False\n",
    "\n",
    "print(solution(key, lock))"
   ]
  },
  {
   "cell_type": "code",
   "execution_count": 21,
   "metadata": {
    "collapsed": true
   },
   "outputs": [
    {
     "name": "stdout",
     "output_type": "stream",
     "text": [
      "6\n",
      "3\n",
      "3 4\n",
      "2 5\n",
      "5 3\n",
      "3\n",
      "3 D\n",
      "15 L\n",
      "17 D\n"
     ]
    },
    {
     "ename": "KeyboardInterrupt",
     "evalue": "",
     "output_type": "error",
     "traceback": [
      "\u001b[0;31m---------------------------------------------------------------------------\u001b[0m",
      "\u001b[0;31mKeyboardInterrupt\u001b[0m                         Traceback (most recent call last)",
      "\u001b[0;32m<ipython-input-21-fbcbe1f2296c>\u001b[0m in \u001b[0;36m<module>\u001b[0;34m\u001b[0m\n\u001b[1;32m     35\u001b[0m             \u001b[0mflag\u001b[0m \u001b[0;34m=\u001b[0m \u001b[0;36m1\u001b[0m\u001b[0;34m\u001b[0m\u001b[0;34m\u001b[0m\u001b[0m\n\u001b[1;32m     36\u001b[0m             \u001b[0;32mbreak\u001b[0m\u001b[0;34m\u001b[0m\u001b[0;34m\u001b[0m\u001b[0m\n\u001b[0;32m---> 37\u001b[0;31m         \u001b[0;32mif\u001b[0m \u001b[0mboard\u001b[0m\u001b[0;34m[\u001b[0m\u001b[0mloc\u001b[0m\u001b[0;34m[\u001b[0m\u001b[0;36m0\u001b[0m\u001b[0;34m]\u001b[0m\u001b[0;34m]\u001b[0m\u001b[0;34m[\u001b[0m\u001b[0mloc\u001b[0m\u001b[0;34m[\u001b[0m\u001b[0;36m1\u001b[0m\u001b[0;34m]\u001b[0m\u001b[0;34m]\u001b[0m \u001b[0;34m==\u001b[0m \u001b[0;34m-\u001b[0m\u001b[0;36m1\u001b[0m\u001b[0;34m:\u001b[0m\u001b[0;34m\u001b[0m\u001b[0;34m\u001b[0m\u001b[0m\n\u001b[0m\u001b[1;32m     38\u001b[0m             \u001b[0mflag\u001b[0m \u001b[0;34m=\u001b[0m \u001b[0;36m1\u001b[0m\u001b[0;34m\u001b[0m\u001b[0;34m\u001b[0m\u001b[0m\n\u001b[1;32m     39\u001b[0m             \u001b[0;32mbreak\u001b[0m\u001b[0;34m\u001b[0m\u001b[0;34m\u001b[0m\u001b[0m\n",
      "\u001b[0;31mKeyboardInterrupt\u001b[0m: "
     ]
    }
   ],
   "source": [
    "# 뱀\n",
    "n = int(input()) #보드의 크기\n",
    "k = int(input()) #사과의 개수\n",
    "board = [[0] * (n+1) for _ in range(n+1)]\n",
    "direction = []\n",
    "cnt = 0\n",
    "#print(board)\n",
    "\n",
    "apple = [] #행,열\n",
    "for i in range(k):\n",
    "    a, b = map(int, input().split()) # 사과의 위치\n",
    "    board[a][b] = 1\n",
    "\n",
    "l = int(input())\n",
    "for _ in range(l):\n",
    "    direction.append(list(input().split()))\n",
    "    \n",
    "dx = [0, 1, 0, -1]\n",
    "dy = [1, 0, -1, 0]\n",
    "loc = [1, 1]\n",
    "turns = 0\n",
    "i = 0\n",
    "q = [(loc[0], loc[1])]\n",
    "\n",
    "while True:\n",
    "\n",
    "#     for j in range(int(direction[i][0])):\n",
    "#         if str(direction[i][1]) == 'L':\n",
    "#             turns -= 1\n",
    "#         else:\n",
    "#             turns += 1\n",
    "#         turns %= 4\n",
    "#         loc[0] += dx[turns]\n",
    "#         loc[1] += dy[turns]\n",
    "    board[loc[0]][loc[1]] = -1\n",
    "    if (loc[0] >= 1 and loc[0] <= n) and (loc[1] >= 1 and loc[1]  <= n) and board[loc[0]][loc[1]] != -1:\n",
    "        if board[loc[0]][loc[1]] == 0:\n",
    "            board[loc[0]][loc[1]] = -1\n",
    "            q.append((loc[0], loc[1]))\n",
    "            px, py = q.pop(0)\n",
    "            board[px][py] = 0\n",
    "        if board[loc[0]][loc[1]] == 1:\n",
    "            board[loc[0]][loc[1]] = -1\n",
    "            q.append((loc[0], loc[1]))\n",
    "    else:\n",
    "        cnt += 1\n",
    "        flag = 1\n",
    "        break\n",
    "        \n",
    "\n",
    "print(cnt)\n"
   ]
  },
  {
   "cell_type": "code",
   "execution_count": 18,
   "metadata": {},
   "outputs": [
    {
     "name": "stdout",
     "output_type": "stream",
     "text": [
      "6\n",
      "3\n",
      "3 4\n",
      "2 5\n",
      "5 3\n",
      "3\n",
      "3 D\n",
      "15 L\n",
      "17 D\n",
      "7\n"
     ]
    }
   ],
   "source": [
    "# 뱀 못품\n",
    "n = int(input()) #보드의 크기\n",
    "k = int(input()) #사과의 개수\n",
    "board = [[0] * (n+1) for _ in range(n+1)]\n",
    "direction = []\n",
    "cnt = 0\n",
    "\n",
    "\n",
    "for i in range(k):\n",
    "    a, b = map(int, input().split()) # 사과의 위치\n",
    "    board[a][b] = 1\n",
    "\n",
    "l = int(input())\n",
    "for _ in range(l):\n",
    "    direction.append(list(input().split()))\n",
    "    \n",
    "dx = [0, 1, 0, -1]\n",
    "dy = [1, 0, -1, 0]\n",
    "\n",
    "def turn(turns, c):\n",
    "    if c == \"L\":\n",
    "        turns = (turns - 1) % 4\n",
    "    else:\n",
    "        turns = (turns + 1) % 4\n",
    "    return turns\n",
    "\n",
    "loc = [1, 1]\n",
    "turns = 0\n",
    "i = 0\n",
    "q = [(loc[0], loc[1])]\n",
    "board[loc[0]][loc[1]] = 2\n",
    "\n",
    "\n",
    "while True:\n",
    "    nx = loc[0] + dx[turns]\n",
    "    ny = loc[1] + dy[turns]\n",
    "    if nx >= 1 and nx <= n and ny >= 1 and ny  <= n and board[ny][ny] != 2:\n",
    "        if board[nx][ny] == 0:\n",
    "            board[nx][ny] = 2\n",
    "            q.append((nx, ny))\n",
    "            px, py = q.pop(0)\n",
    "            board[px][py] = 0\n",
    "        if board[nx][ny] == 1:\n",
    "            board[nx][ny] = 2\n",
    "            q.append((nx, ny))\n",
    "    else:\n",
    "        cnt += 1\n",
    "        break\n",
    "    loc[0], loc[1] = nx, ny\n",
    "    cnt += 1\n",
    "    if i < l and cnt == int(direction[i][0]):\n",
    "        turns = turn(turns, direction[i][1])\n",
    "        i += 1\n",
    "    \n",
    "print(cnt)\n"
   ]
  },
  {
   "cell_type": "code",
   "execution_count": 22,
   "metadata": {},
   "outputs": [
    {
     "name": "stdout",
     "output_type": "stream",
     "text": [
      "5\n",
      "[[1, 0, 0]]\n",
      "[]\n"
     ]
    }
   ],
   "source": [
    "# 기둥과 보 설치\n",
    "test_case = [\n",
    "    [\n",
    "        [1, 0, 0, 1],\n",
    "        [1, 1, 1, 1],\n",
    "        [2, 1, 0, 1],\n",
    "        [5, 0, 0, 1],\n",
    "        [5, 1, 0, 1],\n",
    "        [4, 2, 1, 1],\n",
    "        [3, 2, 1, 1]\n",
    "    ],\n",
    "    [\n",
    "        [0, 0, 0, 1],\n",
    "        [2, 0, 0, 1],\n",
    "        [4, 0, 0, 1],\n",
    "        [0, 1, 1, 1],\n",
    "        [1, 1, 1, 1],\n",
    "        [2, 1, 1, 1],\n",
    "        [3, 1, 1, 1],\n",
    "        [2, 0, 0, 0],\n",
    "        [1, 1, 1, 0],\n",
    "        [2, 2, 0, 1]\n",
    "    ]\n",
    "]\n",
    "\n",
    "n = int(input())\n",
    "\n",
    "def solution(n, build_frame):\n",
    "    answer = []\n",
    "    x, y = build_frame[0][0], build_frame[0][1] # prev\n",
    "    q = []\n",
    "    q.append([build_frame[0][0], build_frame[0][1], build_frame[0][2]])\n",
    "    \n",
    "    for i in range(1, len(build_frame)):\n",
    "        nx, ny = x, y\n",
    "        if build_frame[i][3] == 1:\n",
    "            if build_frame[i][2] == 0: # 기둥\n",
    "                ny += 1\n",
    "                if build_frame[i][0] == nx and build_frame[i][1] == ny:\n",
    "                    q.append([build_frame[i][0], build_frame[i][1], build_frame[i][2]])\n",
    "                    continue\n",
    "            ifbuild_frame[i][2] == 1:\n",
    "                nx += 1\n",
    "                if build_frame[i][0] == nx and build_frame[i][1] == ny:\n",
    "                    q.append([build_frame[i][0], build_frame[i][1], build_frame[i][2]])\n",
    "                    continue\n",
    "        else:\n",
    "            \n",
    "            \n",
    "    print(q)\n",
    "    return answer\n",
    "\n",
    "print(solution(5, test_case[0]))\n",
    "\n"
   ]
  },
  {
   "cell_type": "code",
   "execution_count": 35,
   "metadata": {},
   "outputs": [
    {
     "name": "stdout",
     "output_type": "stream",
     "text": [
      "[[0, 0, 0], [0, 1, 1], [1, 1, 1], [2, 1, 1], [3, 1, 1], [4, 0, 0]]\n"
     ]
    }
   ],
   "source": [
    "# 현재 설치된 구조물이 '가능한' 구조물인지 확인하는 함수\n",
    "def possible(answer):\n",
    "    for x, y, stuff in answer:\n",
    "        if stuff == 0: # 설치된 것이 '기둥'인 경우\n",
    "            # '바닥 위' 혹은 '보의 한쪽 끝 부분 위' 혹은 '다른 기둥 위'라면 정상\n",
    "            if y == 0 or [x - 1, y, 1] in answer or [x, y, 1] in answer or [x, y - 1, 0] in answer:\n",
    "                continue\n",
    "            return False # 아니라면 거짓(False) 반환\n",
    "        elif stuff == 1: # 설치된 것이 '보'인 경우\n",
    "            # '한쪽 끝부분이 기둥 위' 혹은 '양쪽 끝부분이 다른 보와 동시에 연결'이라면 정상\n",
    "            if [x, y - 1, 0] in answer or [x + 1, y - 1, 0] in answer or ([x - 1, y, 1] in answer and [x + 1, y, 1] in answer):\n",
    "                continue\n",
    "            return False # 아니라면 거짓(False) 반환\n",
    "    return True\n",
    "\n",
    "def solution(n, build_frame):\n",
    "    answer = []\n",
    "    for frame in build_frame: # 작업(frame)의 개수는 최대 1,000개\n",
    "        x, y, stuff, operate = frame\n",
    "        if operate == 0: # 삭제하는 경우\n",
    "            answer.remove([x, y, stuff]) # 일단 삭제를 해본 뒤에\n",
    "            if not possible(answer): # 가능한 구조물인지 확인\n",
    "                answer.append([x, y, stuff]) # 가능한 구조물이 아니라면 다시 설치\n",
    "        if operate == 1: # 설치하는 경우\n",
    "            answer.append([x, y, stuff]) # 일단 설치를 해본 뒤에\n",
    "            if not possible(answer): # 가능한 구조물인지 확인\n",
    "                answer.remove([x, y, stuff]) # 가능한 구조물이 아니라면 다시 제거\n",
    "    return sorted(answer) # 정렬된 결과를 반환\n",
    "print(solution(5, test_case[1]))"
   ]
  },
  {
   "cell_type": "code",
   "execution_count": 61,
   "metadata": {
    "scrolled": true
   },
   "outputs": [
    {
     "name": "stdout",
     "output_type": "stream",
     "text": [
      "5 3\n",
      "0 0 1 0 0\n",
      "0 0 2 0 1\n",
      "0 1 2 0 0\n",
      "0 0 1 0 0\n",
      "0 0 0 0 2\n",
      "[[2, 3], [3, 3], [5, 5]]\n",
      "[[1, 3], [2, 5], [3, 2], [4, 3]]\n",
      "[1, 1, 3]\n",
      "5\n"
     ]
    }
   ],
   "source": [
    "# 치킨 배달\n",
    "N, M = map(int, input().split())\n",
    "city = []\n",
    "home = []\n",
    "chicken = []\n",
    "\n",
    "for i in range(N):\n",
    "    tmp = list(map(int, input().split()))\n",
    "    if 2 in tmp:\n",
    "        for j in range(N):\n",
    "            if tmp[j] == 2:\n",
    "                chicken.append([i+1, j+1])\n",
    "    if 1 in tmp:\n",
    "        for k in range(N):\n",
    "            if tmp[k] == 1:\n",
    "                home.append([i+1, k+1])\n",
    "    city.append(tmp)\n",
    "\n",
    "print(chicken)\n",
    "print(home)\n",
    "distance = []\n",
    "minimum = 10000000000\n",
    "\n",
    "for x, y in chicken:\n",
    "    l = []\n",
    "    res = 0\n",
    "    for hx, hy in home:\n",
    "        l.append(abs(x-hx)+abs(y-hy))\n",
    "sorted(distance)\n",
    "print(distance)\n",
    "print(sum(distance))"
   ]
  },
  {
   "cell_type": "code",
   "execution_count": 33,
   "metadata": {},
   "outputs": [
    {
     "name": "stdout",
     "output_type": "stream",
     "text": [
      "5 3\n",
      "0 0 1 0 0\n",
      "0 0 2 0 1\n",
      "0 1 2 0 0\n",
      "0 0 1 0 0\n",
      "0 0 0 0 2\n",
      "[(2, 3), (3, 3), (5, 5)]\n",
      "[(1, 3), (2, 5), (3, 2), (4, 3)]\n",
      "[((1, 1),), ((2, 1),), ((3, 1),), ((4, 1),), ((5, 1),)]\n",
      "5\n"
     ]
    }
   ],
   "source": [
    "# 치킨 배달 \n",
    "from itertools import combinations\n",
    "\n",
    "N, M = map(int, input().split())\n",
    "city = []\n",
    "home = []\n",
    "chicken = []\n",
    "\n",
    "for i in range(N):\n",
    "    tmp = list(map(int, input().split()))\n",
    "    if 2 in tmp:\n",
    "        for j in range(N):\n",
    "            if tmp[j] == 2:\n",
    "                chicken.append((i+1, j+1))\n",
    "    if 1 in tmp:\n",
    "        for k in range(N):\n",
    "            if tmp[k] == 1:\n",
    "                home.append((i+1, k+1))\n",
    "    city.append(tmp)\n",
    "\n",
    "print(chicken)\n",
    "print(home)\n",
    "distance = []\n",
    "minimum = 10000000000\n",
    "\n",
    "print(chicken_list)\n",
    "for chick in combinations(chicken, M):\n",
    "    res = 0\n",
    "    for hx, hy in home:\n",
    "        res += min([abs(hx - x) + abs(hy - y) for x, y in chick])\n",
    "        if minimum <= res:\n",
    "            break\n",
    "    if res < minimum:\n",
    "        minimum = res\n",
    "    \n",
    "print(minimum)\n"
   ]
  },
  {
   "cell_type": "code",
   "execution_count": 2,
   "metadata": {},
   "outputs": [
    {
     "output_type": "stream",
     "name": "stdout",
     "text": [
      "aaaabbcccdddddeee \n"
     ]
    }
   ],
   "source": [
    "# 문자열 압축\n",
    "def compress(text, tok_len):\n",
    "    words = [text[i:i+tok_len] for i in range(0, len(text), tok_len)]\n",
    "    res = []\n",
    "    cur_word = words[0]\n",
    "    cur_cnt = 1\n",
    "    for a, b in zip(words, words[1:] + ['']):\n",
    "        print(a, b)\n",
    "compress('aaaabbcccdddddeee', len('aaaabbcccdddddeee'))"
   ]
  },
  {
   "cell_type": "code",
   "execution_count": 7,
   "metadata": {},
   "outputs": [
    {
     "output_type": "stream",
     "name": "stdout",
     "text": [
      "[('1', 'A', 'a'), ('2', 'B', 'b'), ('3', 'C', 'c'), ('4', 'D', 'd'), ('5', 'E', 'e')]\n"
     ]
    }
   ],
   "source": [
    "# zip\n",
    "a = zip(\"12345\", \"ABCDE\", \"abcde\")\n",
    "print(list(a))"
   ]
  },
  {
   "cell_type": "code",
   "execution_count": null,
   "metadata": {},
   "outputs": [],
   "source": []
  }
 ],
 "metadata": {
  "kernelspec": {
   "name": "python3",
   "display_name": "Python 3.8.5 64-bit ('base': conda)"
  },
  "language_info": {
   "codemirror_mode": {
    "name": "ipython",
    "version": 3
   },
   "file_extension": ".py",
   "mimetype": "text/x-python",
   "name": "python",
   "nbconvert_exporter": "python",
   "pygments_lexer": "ipython3",
   "version": "3.8.5"
  },
  "interpreter": {
   "hash": "e7349d93b30de96492aa9e4fe48da2574dca469e925a20f672731d8d15c48af3"
  }
 },
 "nbformat": 4,
 "nbformat_minor": 4
}