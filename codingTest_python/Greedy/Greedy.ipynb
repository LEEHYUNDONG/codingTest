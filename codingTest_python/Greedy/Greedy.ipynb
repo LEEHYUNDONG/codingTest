{
 "cells": [
  {
   "cell_type": "code",
   "execution_count": 3,
   "metadata": {},
   "outputs": [
    {
     "name": "stdout",
     "output_type": "stream",
     "text": [
      "5 8 3\n",
      "2 4 5 4 6\n",
      "[6, 5, 4, 4, 2]\n",
      "46\n"
     ]
    }
   ],
   "source": [
    "# 큰 수의 법칙\n",
    "n, m, k = map(int, input().split()) # n, m, k 입력 받기\n",
    "data = map(int, input().split())\n",
    "data = list(data)\n",
    "data = sorted(data, reverse=True) # 데이터 내림차순 정렬하기 \n",
    "\n",
    "j = 0\n",
    "num = 0\n",
    "\n",
    "while m > 0: #m이 0보다 클때\n",
    "    for i in range(k): #get in the loop amount of k\n",
    "        if m == 0:\n",
    "            break\n",
    "        num += data[j] 모든 데이터를 계속 더한다.\n",
    "        m -= 1\n",
    "    if m == 0:\n",
    "        break\n",
    "    num += data[j+1]\n",
    "    m -= 1\n",
    "print(num)\n",
    "'''생각 해보니 첫번째랑 두번째만 계속 사용해서 만드는게 가장 큰수..'''"
   ]
  },
  {
   "cell_type": "code",
   "execution_count": 5,
   "metadata": {},
   "outputs": [
    {
     "name": "stdout",
     "output_type": "stream",
     "text": [
      "5 8 3\n",
      "2 4 5 4 6\n",
      "46\n"
     ]
    }
   ],
   "source": [
    "# 큰 수의 법칙\n",
    "\n",
    "n, m, k = map(int, input().split())\n",
    "data = map(int, input().split())\n",
    "data = list(data)\n",
    "data = sorted(data, reverse=True) # 내림차순으로 정렬한다.\n",
    "\n",
    "j = 0\n",
    "num = 0\n",
    "cnt = 0\n",
    "\n",
    "for i in range(0, m): #0 에서 m까지 돌아간다. 총 m+1번 \n",
    "    if cnt == k: # cnt값과 k번 제한된 횟수가 같으면 다시 cnt를 초기화하고 다시 큰수를 더한다.\n",
    "        cnt = 0 # 결국에 이 if문에 걸리는 것은 1번만 걸릴것 나머지는 첫번째 값만 계속 더하게된다.\n",
    "        num += data[j+1]\n",
    "    else: # 같지 않다면 가장 큰수를 계속해서 더한다.\n",
    "        cnt += 1\n",
    "        num+= data[j]\n",
    "\n",
    "print(num)"
   ]
  },
  {
   "cell_type": "code",
   "execution_count": 22,
   "metadata": {},
   "outputs": [
    {
     "name": "stdout",
     "output_type": "stream",
     "text": [
      "2 4\n",
      "7 3 1 8\n",
      "3 3 3 4\n",
      "3\n"
     ]
    }
   ],
   "source": [
    "# 숫자 카드 게임\n",
    "n, m = map(int, input().split()) \n",
    "data = [] #data를 리스트에 담는다.\n",
    "c = 0\n",
    "\n",
    "for i in range(n): # 0 - n-1까지 돌아간다.\n",
    "    data.append(list(map(int, input().split())))\n",
    "    data[i] = sorted(data[i]) \n",
    "    if i == 0:\n",
    "        minN = data[i][0]\n",
    "        continue\n",
    "    else:\n",
    "        if minN <= data[i][0]:\n",
    "            minN = data[i][0]\n",
    "    \n",
    "print(minN)"
   ]
  },
  {
   "cell_type": "code",
   "execution_count": 35,
   "metadata": {},
   "outputs": [
    {
     "name": "stdout",
     "output_type": "stream",
     "text": [
      "27 3\n",
      "3\n"
     ]
    }
   ],
   "source": [
    "# 1이 될 때까지\n",
    "n, k = map(int, input().split())\n",
    "cnt = 0 # 연산 횟수를 저장하는 변수이다.\n",
    "\n",
    "while n != 1:\n",
    "    if n % k == 0: # 나머지가 0일때 나눈 몫을 n에 넣어준다.\n",
    "        n /= k \n",
    "    else: # 나누어 떯어지지 않을때는 숫자를 1씩 감소 시킨다.\n",
    "        n -= 1\n",
    "    cnt += 1  # 연산을 총 몇 번 하는지 cnt 변수에 저장한다.\n",
    "    \n",
    "    \n",
    "print(cnt)\n",
    "\n",
    "# TEST CASE\n",
    "# 27 4\n",
    "# 7\n",
    "\n",
    "# 25 5\n",
    "# 2\n",
    "\n",
    "# 17 4\n",
    "# 3\n",
    "\n",
    "# 100 3\n",
    "# 7\n",
    "\n",
    "# 11 9\n",
    "# 3"
   ]
  },
  {
   "cell_type": "code",
   "execution_count": 19,
   "metadata": {},
   "outputs": [
    {
     "name": "stdout",
     "output_type": "stream",
     "text": [
      "5\n",
      "2 3 1 2 2\n",
      "1 1\n",
      "2 2\n",
      "2\n"
     ]
    }
   ],
   "source": [
    "# 모함가 길드\n",
    "n = int(input())\n",
    "data = map(int, input().split())\n",
    "data = sorted(data)\n",
    "\n",
    "cnt = 0\n",
    "res = 0\n",
    " \n",
    "for i in range(len(data)):\n",
    "    cnt += 1 # 사람수를 cnt 해줄 변수 sentinel 역할(flag)\n",
    "    if data[i] <= cnt:  #cnt 보다 작을 때만 data를 길드에 포함 시킬 수 있다.\n",
    "        print(data[i], cnt)\n",
    "        res += 1\n",
    "        cnt = 0\n",
    "        \n",
    "print(res)"
   ]
  },
  {
   "cell_type": "code",
   "execution_count": 5,
   "metadata": {},
   "outputs": [
    {
     "name": "stdout",
     "output_type": "stream",
     "text": [
      "0689\n",
      "432\n"
     ]
    }
   ],
   "source": [
    "# 곱하기 혹은 더하기 //15분\n",
    "num = input()\n",
    "res = 0\n",
    "\n",
    "for i in range(len(num)):\n",
    "    if int(num[i]) == 0 | int(num[i]) == 1: # 숫자가 1이거나 0일때만 더하고 나머지는 전부 곱한다.\n",
    "        res += int(num[i])\n",
    "        \n",
    "    else:\n",
    "        if res == 0: #만약에 처음이나 아직 결과 값이 0이라면 1로 만들어줘야 곱했을때 0이 나오지 않는다\n",
    "           res = 1\n",
    "        res *= int(num[i])\n",
    "        \n",
    "print(res)"
   ]
  },
  {
   "cell_type": "code",
   "execution_count": 3,
   "metadata": {},
   "outputs": [
    {
     "name": "stdout",
     "output_type": "stream",
     "text": [
      "100110001000111\n",
      "[1, 0, 0, 1, 1, 0, 0, 0, 1, 0, 0, 0, 1, 1, 1]\n",
      "[3, 4]\n",
      "3\n"
     ]
    }
   ],
   "source": [
    "# 문자열 뒤집기  // 모르겠다...\n",
    "s = input()\n",
    "n = list(map(int, s)) #s int 자료형 list로 변환\n",
    "\n",
    "print(n)\n",
    "count = [0, 0]\n",
    "\n",
    "count[n[0]] += 1\n",
    "for i in range(1, len(s)):\n",
    "    if n[i-1] != n[i]:\n",
    "        count[n[i]] += 1\n",
    "        \n",
    "print(count)\n",
    "print(min(count))\n",
    "    \n",
    "        "
   ]
  },
  {
   "cell_type": "code",
   "execution_count": 18,
   "metadata": {},
   "outputs": [
    {
     "name": "stdout",
     "output_type": "stream",
     "text": [
      "5\n",
      "3 2 1 1 9\n",
      "1 1\n",
      "2 1\n",
      "3 2\n",
      "5 3\n",
      "8 9\n",
      "8\n"
     ]
    }
   ],
   "source": [
    "# 만들 수 없는 금액 // 20분\n",
    "n = int(input())\n",
    "money = map(int, input().split())\n",
    "money = sorted(money)\n",
    "tot = 1\n",
    "\n",
    "for i in money:\n",
    "    print(tot, i)\n",
    "    if tot < i:\n",
    "        break\n",
    "    tot += i\n",
    "print(tot)"
   ]
  },
  {
   "cell_type": "code",
   "execution_count": 27,
   "metadata": {},
   "outputs": [
    {
     "name": "stdout",
     "output_type": "stream",
     "text": [
      "8 5\n",
      "1 5 4 3 2 4 5 2\n",
      "25\n"
     ]
    }
   ],
   "source": [
    "# 볼링공 고르기 // 5분\n",
    "n, m = map(int, input().split())\n",
    "num = list(map(int, input().split()))\n",
    "\n",
    "cnt = 0\n",
    "for i in range(n):\n",
    "    for j in range(i+1, n):\n",
    "         if num[i] != num[j]:\n",
    "                cnt += 1\n",
    "                \n",
    "print(cnt)"
   ]
  },
  {
   "cell_type": "code",
   "execution_count": 73,
   "metadata": {
    "collapsed": true
   },
   "outputs": [
    {
     "name": "stdout",
     "output_type": "stream",
     "text": [
      "5\n",
      "3 1 2\n"
     ]
    },
    {
     "ename": "IndexError",
     "evalue": "list index out of range",
     "output_type": "error",
     "traceback": [
      "\u001b[0;31m---------------------------------------------------------------------------\u001b[0m",
      "\u001b[0;31mIndexError\u001b[0m                                Traceback (most recent call last)",
      "\u001b[0;32m<ipython-input-73-da44dd42c68d>\u001b[0m in \u001b[0;36m<module>\u001b[0;34m\u001b[0m\n\u001b[1;32m     22\u001b[0m         \u001b[0;32mbreak\u001b[0m\u001b[0;34m\u001b[0m\u001b[0;34m\u001b[0m\u001b[0m\n\u001b[1;32m     23\u001b[0m     \u001b[0mk\u001b[0m \u001b[0;34m-=\u001b[0m \u001b[0;36m1\u001b[0m\u001b[0;34m\u001b[0m\u001b[0;34m\u001b[0m\u001b[0m\n\u001b[0;32m---> 24\u001b[0;31m     \u001b[0;32mif\u001b[0m \u001b[0mfood_list\u001b[0m\u001b[0;34m[\u001b[0m\u001b[0mi\u001b[0m\u001b[0;34m]\u001b[0m\u001b[0;34m[\u001b[0m\u001b[0;36m1\u001b[0m\u001b[0;34m]\u001b[0m \u001b[0;34m!=\u001b[0m \u001b[0;36m0\u001b[0m\u001b[0;34m:\u001b[0m\u001b[0;34m\u001b[0m\u001b[0;34m\u001b[0m\u001b[0m\n\u001b[0m\u001b[1;32m     25\u001b[0m         \u001b[0mfood_list\u001b[0m\u001b[0;34m[\u001b[0m\u001b[0mi\u001b[0m\u001b[0;34m]\u001b[0m\u001b[0;34m[\u001b[0m\u001b[0;36m1\u001b[0m\u001b[0;34m]\u001b[0m \u001b[0;34m-=\u001b[0m \u001b[0;36m1\u001b[0m\u001b[0;34m\u001b[0m\u001b[0;34m\u001b[0m\u001b[0m\n\u001b[1;32m     26\u001b[0m     \u001b[0;32mif\u001b[0m \u001b[0mfood_list\u001b[0m\u001b[0;34m[\u001b[0m\u001b[0mi\u001b[0m\u001b[0;34m]\u001b[0m\u001b[0;34m[\u001b[0m\u001b[0;36m1\u001b[0m\u001b[0;34m]\u001b[0m \u001b[0;34m==\u001b[0m \u001b[0;36m0\u001b[0m\u001b[0;34m:\u001b[0m\u001b[0;34m\u001b[0m\u001b[0;34m\u001b[0m\u001b[0m\n",
      "\u001b[0;31mIndexError\u001b[0m: list index out of range"
     ]
    }
   ],
   "source": [
    "# 무지의 먹방 라이브\n",
    "# 못품\n",
    "\n",
    "k  = int(input())\n",
    "food_times = list(map(int, input().split()))\n",
    "\n",
    "answer = 0\n",
    "if sum(food_times) <= k:\n",
    "    print(-1)\n",
    "\n",
    "food_list = []\n",
    "tot = 0\n",
    "\n",
    "for i in range(len(food_times)):\n",
    "    food_list.append([i+1, food_times[i]])\n",
    "    tot += food_times[i]\n",
    "\n",
    "food_list.sort(key = lambda x:x[1])\n",
    "\n",
    "while k > 0:\n",
    "    if food_list[i][1] != 0:\n",
    "        food_list[i][1] -= 1\n",
    "    if food_list[i][1] == 0:\n",
    "        del food_list[i]\n",
    "    k -= 1\n",
    "    \n",
    "print(food_list)"
   ]
  },
  {
   "cell_type": "code",
   "execution_count": 75,
   "metadata": {},
   "outputs": [
    {
     "name": "stdout",
     "output_type": "stream",
     "text": [
      "5\n"
     ]
    }
   ],
   "source": [
    "# 무지의 먹방 라이브\n",
    "import heapq\n",
    "\n",
    "def solution(food_times, k):\n",
    "    if sum(food_times) <= k:\n",
    "        return -1\n",
    "    \n",
    "    q = []\n",
    "    for i in range(len(food_times)):\n",
    "        heapq.heappush(q, (food_times[i], i+1))\n",
    "    \n",
    "    sum_value = 0\n",
    "    previous = 0\n",
    "    length = len(food_times)\n",
    "    \n",
    "    while sum_value + ((q[0][0] - previous) * length) <= k:\n",
    "        now = heapq.heappop(q)[0]\n",
    "        sum_value += (now - previous) * length\n",
    "        length -= 1\n",
    "        previous = now\n",
    "    \n",
    "    result = sorted(q, key = lambda x: x[1])\n",
    "    return result[(k - sum_value) % length][1]\n",
    "\n",
    "print(solution([3, 1, 2, 7, 8], 20))"
   ]
  },
  {
   "cell_type": "code",
   "execution_count": null,
   "metadata": {},
   "outputs": [],
   "source": []
  }
 ],
 "metadata": {
  "kernelspec": {
   "display_name": "Python 3",
   "language": "python",
   "name": "python3"
  },
  "language_info": {
   "codemirror_mode": {
    "name": "ipython",
    "version": 3
   },
   "file_extension": ".py",
   "mimetype": "text/x-python",
   "name": "python",
   "nbconvert_exporter": "python",
   "pygments_lexer": "ipython3",
   "version": "3.8.5"
  }
 },
 "nbformat": 4,
 "nbformat_minor": 4
}
