{
 "cells": [
  {
   "cell_type": "code",
   "execution_count": 7,
   "metadata": {},
   "outputs": [
    {
     "name": "stdout",
     "output_type": "stream",
     "text": [
      "3\n",
      "15\n",
      "27\n",
      "12\n",
      "27 15 12 "
     ]
    }
   ],
   "source": [
    "# 위에서 아래로\n",
    "n = int(input())\n",
    "a = [int(input()) for _ in range(n)]\n",
    "a = sorted(a, reverse=True)\n",
    "\n",
    "for i in a:\n",
    "    print(i, end=' ')"
   ]
  },
  {
   "cell_type": "code",
   "execution_count": 16,
   "metadata": {},
   "outputs": [
    {
     "name": "stdout",
     "output_type": "stream",
     "text": [
      "2\n",
      "홍길동 95\n",
      "이순신 77\n",
      "이순신 홍길동 "
     ]
    }
   ],
   "source": [
    "# 성적이 낮은 순서로 학생 출력하기\n",
    "n = int(input())\n",
    "a = [input().split() for _ in range(n)]\n",
    "a = [[a[i][0], int(a[i][1])] for i in range(n)]\n",
    "a = sorted(a, key = lambda x: x[1])\n",
    "\n",
    "for i in a:\n",
    "    print(i[0], end= ' ')"
   ]
  },
  {
   "cell_type": "code",
   "execution_count": 1,
   "metadata": {},
   "outputs": [
    {
     "name": "stdout",
     "output_type": "stream",
     "text": [
      "6 3\n",
      "1 2 1 2 3\n",
      "0 0 0 2 1\n",
      "10\n"
     ]
    }
   ],
   "source": [
    "# 두 배열의 원소 교체\n",
    "n, k = map(int, input().split())\n",
    "a = list(map(int, input().split()))\n",
    "b = list(map(int, input().split()))\n",
    "a = sorted(a)\n",
    "b = sorted(b, reverse=True)\n",
    "\n",
    "for i in range(k):\n",
    "    if a[i] < b[i]:\n",
    "        a[i], b[i] = b[i], a[i]\n",
    "print(sum(a))"
   ]
  },
  {
   "cell_type": "code",
   "execution_count": 29,
   "metadata": {
    "scrolled": true
   },
   "outputs": [
    {
     "name": "stdout",
     "output_type": "stream",
     "text": [
      "12\n",
      "Junkyu 50 60 100\n",
      "Sangkeun 80 60 50\n",
      "Sunyoung 80 70 100\n",
      "Soong 50 60 90\n",
      "Haebin 50 60 100\n",
      "Kangsoo 60 80 100\n",
      "Donghyuk 80 60 100\n",
      "Sei 70 70 70\n",
      "Wonseob 70 70 90\n",
      "Sanghyun 70 70 80\n",
      "nsj 80 80 80\n",
      "Taewhan 50 60 90\n",
      "Donghyuk\n",
      "Sangkeun\n",
      "Sunyoung\n",
      "nsj\n",
      "Wonseob\n",
      "Sanghyun\n",
      "Sei\n",
      "Kangsoo\n",
      "Haebin\n",
      "Junkyu\n",
      "Soong\n",
      "Taewhan\n"
     ]
    }
   ],
   "source": [
    "# 국영수\n",
    "# test_case\n",
    "# 12\n",
    "# Junkyu 50 60 100\n",
    "# Sangkeun 80 60 50\n",
    "# Sunyoung 80 70 100\n",
    "# Soong 50 60 90\n",
    "# Haebin 50 60 100\n",
    "# Kangsoo 60 80 100\n",
    "# Donghyuk 80 60 100\n",
    "# Sei 70 70 70\n",
    "# Wonseob 70 70 90\n",
    "# Sanghyun 70 70 80\n",
    "# nsj 80 80 80\n",
    "# Taewhan 50 60 90\n",
    "n = int(input())\n",
    "a = [input().split() for _ in range(n)]\n",
    "a = [[a[i][0], int(a[i][1]), int(a[i][2]), int(a[i][3])] for i in range(n)]\n",
    "\n",
    "a = sorted(a)\n",
    "a = sorted(a, key = lambda x: x[3], reverse=True)\n",
    "a = sorted(a, key = lambda x: x[2])\n",
    "a = sorted(a, key = lambda x: x[1], reverse=True)\n",
    "\n",
    "for i in a:\n",
    "    print(i[0])"
   ]
  },
  {
   "cell_type": "code",
   "execution_count": 2,
   "metadata": {},
   "outputs": [
    {
     "name": "stdout",
     "output_type": "stream",
     "text": [
      "3\n",
      "3 1 10 10\n",
      "3\n"
     ]
    }
   ],
   "source": [
    "#안테나\n",
    "n = int(input())\n",
    "a = list(map(int, input().split()))\n",
    "a.sort()\n",
    "print(a[(n-1)//2])"
   ]
  },
  {
   "cell_type": "code",
   "execution_count": 49,
   "metadata": {},
   "outputs": [
    {
     "name": "stdout",
     "output_type": "stream",
     "text": [
      "[4, 1, 2, 3]\n"
     ]
    }
   ],
   "source": [
    "# 실패율\n",
    "n = 4\n",
    "stages = [4, 4, 4, 4, 4]\n",
    "answer = []\n",
    "count = [0]*(n)\n",
    "prob = [0.]*(n)\n",
    "stages = sorted(stages)\n",
    "a = [x+1 for x in range(n)]\n",
    "tot = 0\n",
    "\n",
    "for i in range(n):\n",
    "    count[i] += stages.count(i+1) \n",
    "    if i != 0: \n",
    "        tot += stages.count(i)\n",
    "    if len(stages)-tot != 0:\n",
    "        prob[i] = count[i]/(len(stages)-tot)\n",
    "\n",
    "\n",
    "answer = [x[0] for x in sorted(list(zip(a, prob)), key = lambda x :x[1], reverse=True)]\n",
    "\n",
    "print(answer)"
   ]
  },
  {
   "cell_type": "code",
   "execution_count": 15,
   "metadata": {},
   "outputs": [
    {
     "name": "stdout",
     "output_type": "stream",
     "text": [
      "3\n",
      "10\n",
      "20\n",
      "40\n",
      "100\n"
     ]
    }
   ],
   "source": [
    "# 카드 정렬하기 # 시간 초과\n",
    "from collections import deque\n",
    "n = int(input())\n",
    "a = [int(input()) for _ in range(n)]\n",
    "a = sorted(a)\n",
    "d = deque(a)\n",
    "tot = 0\n",
    "\n",
    "while len(d) >= 2:\n",
    "    x, y = d.popleft(), d.popleft()\n",
    "    tot += x + y\n",
    "    d.appendleft(x+y)\n",
    "print(tot)"
   ]
  },
  {
   "cell_type": "code",
   "execution_count": 1,
   "metadata": {},
   "outputs": [
    {
     "name": "stdout",
     "output_type": "stream",
     "text": [
      "3\n",
      "10\n",
      "20\n",
      "40\n",
      "100\n"
     ]
    }
   ],
   "source": [
    "# (0 + 10) + 20 + ((10+20) + 40) + ((10+20)+40) + 50 \n",
    "from queue import PriorityQueue\n",
    "\n",
    "n = int(input())\n",
    "q = PriorityQueue()\n",
    "result = 0\n",
    "\n",
    "for i in range(n):\n",
    "    q.put(int(input()))\n",
    "\n",
    "while q.qsize() >= 2:\n",
    "    a = q.get()\n",
    "    b = q.get()\n",
    "    result += a+b\n",
    "    q.put(a+b)\n",
    "\n",
    "print(result)"
   ]
  },
  {
   "cell_type": "code",
   "execution_count": null,
   "metadata": {},
   "outputs": [],
   "source": []
  }
 ],
 "metadata": {
  "kernelspec": {
   "display_name": "Python 3",
   "language": "python",
   "name": "python3"
  },
  "language_info": {
   "codemirror_mode": {
    "name": "ipython",
    "version": 3
   },
   "file_extension": ".py",
   "mimetype": "text/x-python",
   "name": "python",
   "nbconvert_exporter": "python",
   "pygments_lexer": "ipython3",
   "version": "3.8.5"
  }
 },
 "nbformat": 4,
 "nbformat_minor": 4
}
