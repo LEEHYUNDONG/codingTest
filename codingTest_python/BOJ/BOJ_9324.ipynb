{
 "cells": [
  {
   "cell_type": "code",
   "execution_count": 14,
   "id": "90c30ed7",
   "metadata": {},
   "outputs": [
    {
     "name": "stdout",
     "output_type": "stream",
     "text": [
      "3\n",
      "BAPC\n",
      "OK\n",
      "AABA\n",
      "FAKE\n",
      "ABCABCBBAAACC\n",
      "OK\n"
     ]
    }
   ],
   "source": [
    "# 9324 진짜 메시지\n",
    "n = int(input())\n",
    "\n",
    "for i in range(n):\n",
    "    dp = [0] * 26\n",
    "    text = list(input())\n",
    "    text.sort()\n",
    "    flag = 1\n",
    "    j = 0\n",
    "    while j < len(text)-1:\n",
    "        dp[ord(text[j]) - ord('A')] += 1\n",
    "        if dp[ord(text[j]) - ord('A')] == 3:\n",
    "            if text[j+1] != text[j]:\n",
    "                flag = 0\n",
    "                break\n",
    "            dp[ord(text[j]) - ord('A')] = 0\n",
    "            j += 1\n",
    "        j+=1\n",
    "    if flag:\n",
    "        print('OK')\n",
    "    else:\n",
    "        print('FAKE')"
   ]
  },
  {
   "cell_type": "code",
   "execution_count": null,
   "id": "8d68a7f8",
   "metadata": {},
   "outputs": [
    {
     "name": "stdout",
     "output_type": "stream",
     "text": [
      "3\n",
      "ABCABCAAABBCC\n",
      "OK\n"
     ]
    }
   ],
   "source": [
    "# 9324 진짜 메시지\n",
    "n = int(input())\n",
    "\n",
    "for i in range(n):\n",
    "    dp = [0] * 26\n",
    "    text = list(input())\n",
    "    flag = 1\n",
    "    mv = 0\n",
    "    length = len(text)\n",
    "    for j in range(length):\n",
    "        j = j + mv\n",
    "        if j >= length:\n",
    "            break\n",
    "        loc = ord(text[j]) - ord('A')\n",
    "        dp[loc] += 1\n",
    "        if dp[loc] % 3 == 0 and dp[loc] > 0:\n",
    "            if j == length-1 or text[j+1] != text[j]:\n",
    "                flag = 0\n",
    "                break\n",
    "            mv += 1\n",
    "    if flag:\n",
    "        print('OK')\n",
    "    else:\n",
    "        print('FAKE')"
   ]
  },
  {
   "cell_type": "code",
   "execution_count": null,
   "id": "5cddc988",
   "metadata": {},
   "outputs": [],
   "source": []
  }
 ],
 "metadata": {
  "kernelspec": {
   "display_name": "Python 3 (ipykernel)",
   "language": "python",
   "name": "python3"
  },
  "language_info": {
   "codemirror_mode": {
    "name": "ipython",
    "version": 3
   },
   "file_extension": ".py",
   "mimetype": "text/x-python",
   "name": "python",
   "nbconvert_exporter": "python",
   "pygments_lexer": "ipython3",
   "version": "3.9.6"
  }
 },
 "nbformat": 4,
 "nbformat_minor": 5
}
