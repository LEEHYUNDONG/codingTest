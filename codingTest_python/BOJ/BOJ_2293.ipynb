{
 "cells": [
  {
   "cell_type": "code",
   "execution_count": 29,
   "id": "180042ae",
   "metadata": {},
   "outputs": [
    {
     "name": "stdout",
     "output_type": "stream",
     "text": [
      "3 10\n",
      "2\n",
      "3\n",
      "5\n",
      "4\n"
     ]
    }
   ],
   "source": [
    "# 동전 1\n",
    "n, k = map(int, input().split())\n",
    "dp = [0] * (k+1)\n",
    "coin = [0]\n",
    "dp[0] = 1\n",
    "for i in range(n):\n",
    "    coin.append(int(input()))\n",
    "\n",
    "for i in range(1, len(coin)):\n",
    "    for j in range(1, k+1):\n",
    "        if j >= coin[i]:\n",
    "            dp[j] += dp[j-coin[i]]\n",
    "print(dp[k])"
   ]
  },
  {
   "cell_type": "code",
   "execution_count": null,
   "id": "3d970c50",
   "metadata": {},
   "outputs": [],
   "source": []
  }
 ],
 "metadata": {
  "kernelspec": {
   "display_name": "Python 3 (ipykernel)",
   "language": "python",
   "name": "python3"
  },
  "language_info": {
   "codemirror_mode": {
    "name": "ipython",
    "version": 3
   },
   "file_extension": ".py",
   "mimetype": "text/x-python",
   "name": "python",
   "nbconvert_exporter": "python",
   "pygments_lexer": "ipython3",
   "version": "3.9.6"
  }
 },
 "nbformat": 4,
 "nbformat_minor": 5
}
