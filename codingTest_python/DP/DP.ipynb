{
 "cells": [
  {
   "cell_type": "code",
   "execution_count": 7,
   "metadata": {},
   "outputs": [
    {
     "name": "stdout",
     "output_type": "stream",
     "text": [
      "200\n",
      "5\n"
     ]
    }
   ],
   "source": [
    "# 못품 / 수열 식을 세워라잉..\n",
    "x = int(input())\n",
    "\n",
    "d = [0] * 30001\n",
    "\n",
    "# i가 x와 동일하듯이 작동한다.\n",
    "for i in range(2, x+1):\n",
    "    d[i] = d[i-1] + 1\n",
    "    if i % 2 == 0:\n",
    "        d[i] = min(d[i], d[i // 2]+1)\n",
    "    if i % 3 == 0:\n",
    "        d[i] = min(d[i], d[i // 3]+1)\n",
    "    if i % 5 == 0:\n",
    "        d[i] = min(d[i], d[i // 5]+1)\n",
    "print(d[x])"
   ]
  },
  {
   "cell_type": "code",
   "execution_count": 12,
   "metadata": {},
   "outputs": [
    {
     "name": "stdout",
     "output_type": "stream",
     "text": [
      "4\n",
      "1 3 1 5\n",
      "8\n"
     ]
    }
   ],
   "source": [
    "# 개미 전사 품\n",
    "x = int(input())\n",
    "data  = list(map(int, input().split()))\n",
    "d = [0] * 1000\n",
    "d[0] = data[0]\n",
    "d[1] = max(data[0], data[1])\n",
    "\n",
    "for i in range(1, x):\n",
    "    d[i] = max(d[i-1], d[i-2] + data[i]) \n",
    "\n",
    "print(d[x-1])"
   ]
  },
  {
   "cell_type": "code",
   "execution_count": 16,
   "metadata": {},
   "outputs": [
    {
     "name": "stdout",
     "output_type": "stream",
     "text": [
      "3\n",
      "5\n"
     ]
    }
   ],
   "source": [
    "# 바닥 공사 품\n",
    "n = int(input())\n",
    "\n",
    "d = [0] * 1001\n",
    "d[1] = 1\n",
    "d[2] = 3\n",
    "\n",
    "for i in range(3, n+1):\n",
    "    # 2x1은 마지막에 하나 올 수 있고 앞에 길이가 i-1 그외에 나머지 두개는 모두 i-2에다가 붙임\n",
    "    d[i] = (d[i-1] + d[i-2]*2)%796796\n",
    "    \n",
    "print(d[n])"
   ]
  },
  {
   "cell_type": "code",
   "execution_count": 18,
   "metadata": {},
   "outputs": [
    {
     "name": "stdout",
     "output_type": "stream",
     "text": [
      "3 4\n",
      "3\n",
      "5\n",
      "7\n"
     ]
    },
    {
     "ename": "IndexError",
     "evalue": "list index out of range",
     "output_type": "error",
     "traceback": [
      "\u001b[0;31m---------------------------------------------------------------------------\u001b[0m",
      "\u001b[0;31mIndexError\u001b[0m                                Traceback (most recent call last)",
      "\u001b[0;32m<ipython-input-18-b30d49c1c351>\u001b[0m in \u001b[0;36m<module>\u001b[0;34m\u001b[0m\n\u001b[1;32m     10\u001b[0m     \u001b[0;32mfor\u001b[0m \u001b[0mj\u001b[0m \u001b[0;32min\u001b[0m \u001b[0mcur\u001b[0m\u001b[0;34m:\u001b[0m\u001b[0;34m\u001b[0m\u001b[0;34m\u001b[0m\u001b[0m\n\u001b[1;32m     11\u001b[0m         \u001b[0;31m#if i % j == 0:\u001b[0m\u001b[0;34m\u001b[0m\u001b[0;34m\u001b[0m\u001b[0;34m\u001b[0m\u001b[0m\n\u001b[0;32m---> 12\u001b[0;31m         \u001b[0md\u001b[0m\u001b[0;34m[\u001b[0m\u001b[0mi\u001b[0m\u001b[0;34m]\u001b[0m \u001b[0;34m=\u001b[0m \u001b[0mmin\u001b[0m\u001b[0;34m(\u001b[0m\u001b[0md\u001b[0m\u001b[0;34m[\u001b[0m\u001b[0mi\u001b[0m\u001b[0;34m]\u001b[0m\u001b[0;34m,\u001b[0m \u001b[0md\u001b[0m\u001b[0;34m[\u001b[0m\u001b[0mi\u001b[0m\u001b[0;34m-\u001b[0m\u001b[0mj\u001b[0m\u001b[0;34m]\u001b[0m\u001b[0;34m+\u001b[0m\u001b[0;36m1\u001b[0m\u001b[0;34m)\u001b[0m\u001b[0;34m\u001b[0m\u001b[0;34m\u001b[0m\u001b[0m\n\u001b[0m\u001b[1;32m     13\u001b[0m \u001b[0;34m\u001b[0m\u001b[0m\n\u001b[1;32m     14\u001b[0m \u001b[0;32mif\u001b[0m \u001b[0md\u001b[0m\u001b[0;34m[\u001b[0m\u001b[0mm\u001b[0m\u001b[0;34m]\u001b[0m \u001b[0;34m==\u001b[0m \u001b[0;36m10001\u001b[0m\u001b[0;34m:\u001b[0m\u001b[0;34m\u001b[0m\u001b[0;34m\u001b[0m\u001b[0m\n",
      "\u001b[0;31mIndexError\u001b[0m: list index out of range"
     ]
    }
   ],
   "source": [
    "#효율적인 화폐 구성\n",
    "n, m = map(int, input().split())\n",
    "cur = [int(input()) for _ in range(n)]\n",
    "\n",
    "d = [10001] * (m+1)\n",
    "d[0] = 0\n",
    "\n",
    "# i가 금액\n",
    "for i in range(1, m+1):\n",
    "    for j in cur:\n",
    "        if i % j == 0:\n",
    "            d[i] = min(d[i], d[i-j]+1)\n",
    "            \n",
    "if d[m] == 10001:\n",
    "    print(-1)\n",
    "else:\n",
    "    print(d[m])"
   ]
  },
  {
   "cell_type": "code",
   "execution_count": 46,
   "metadata": {},
   "outputs": [
    {
     "name": "stdout",
     "output_type": "stream",
     "text": [
      "1\n",
      "4 4\n",
      "1 3 1 5 2 2 4 1 5 0 2 3 0 6 1 2\n",
      "1 2 3 18\n"
     ]
    }
   ],
   "source": [
    "# 금광 못품\n",
    "test = int(input())\n",
    "answer = []\n",
    "for i in range(test):\n",
    "    n, m = map(int, input().split())\n",
    "    gold = list(map(int, input().split()))\n",
    "    d = [0] * m\n",
    "    for i in range(n):\n",
    "        if d[0] <= gold[m*i]:\n",
    "            d[0] = gold[m*i]\n",
    "            maxI = m*i\n",
    "    for i in range(1, m):\n",
    "        if i + n < n*m:\n",
    "            print(i, end = ' ')\n",
    "            d[i] = max(d[i-1] + gold[maxI+i], d[i-1] + gold[maxI+i-n], d[i-1] + gold[maxI+i+n])\n",
    "        #print(d[i], end=' ')\n",
    "    print(d[m-1])\n",
    "    #1 3 3 2 2 1 4 1 0 6 4 7\n",
    "    #1 3 1 5 2 2 4 1 5 0 2 3 0 6 1 2"
   ]
  },
  {
   "cell_type": "code",
   "execution_count": 52,
   "metadata": {},
   "outputs": [
    {
     "name": "stdout",
     "output_type": "stream",
     "text": [
      "1\n",
      "3 4\n",
      "1 3 3 2 2 1 4 1 0 6 4 7\n",
      "[[0, 0, 0, 0], [0, 0, 0, 0], [0, 0, 0, 0]] [[1, 3, 3, 2], [2, 1, 4, 1], [0, 6, 4, 7]]\n"
     ]
    }
   ],
   "source": [
    "# 금광\n",
    "test = int(input())\n",
    "answer = []\n",
    "for i in range(test):\n",
    "    n, m = map(int, input().split())\n",
    "    tmp = list(map(int, input().split()))\n",
    "    gold = []\n",
    "    for j in range(n):\n",
    "        gold.append(tmp[m*j:m*(j+1)])\n",
    "    dp = [[0]*m]*n\n",
    "    for j in range(n):\n",
    "        dp[0][j] = gold[0][j]\n",
    "        \n",
    "    for j in range(1, n): # 행 \n",
    "        for k in range(m): # 열\n",
    "            \n",
    "            dp[j][k] = max(dp[j-1][k]+gold[j][k+1], dp[j-1][k]+gold[j][k])\n",
    "            \n",
    "                \n",
    "    #1 3 3 2 2 1 4 1 0 6 4 7\n",
    "    #1 3 1 5 2 2 4 1 5 0 2 3 0 6 1 2"
   ]
  },
  {
   "cell_type": "code",
   "execution_count": 11,
   "metadata": {},
   "outputs": [
    {
     "name": "stdout",
     "output_type": "stream",
     "text": [
      "1\n",
      "3 4\n",
      "1 3 3 2 2 1 4 1 0 6 4 7\n",
      "19\n"
     ]
    }
   ],
   "source": [
    "# 테스트 케이스(Test Case) 입력\n",
    "for tc in range(int(input())):\n",
    "    # 금광 정보 입력\n",
    "    n, m = map(int, input().split())\n",
    "    array = list(map(int, input().split()))\n",
    "\n",
    "    # 다이나믹 프로그래밍을 위한 2차원 DP 테이블 초기화\n",
    "    dp = []\n",
    "    index = 0\n",
    "    for i in range(n):\n",
    "        dp.append(array[index:index + m])\n",
    "        index += m\n",
    "\n",
    "    # 다이나믹 프로그래밍 진행\n",
    "    for j in range(1, m):\n",
    "        for i in range(n):\n",
    "            # 왼쪽 위에서 오는 경우\n",
    "            if i == 0:\n",
    "                left_up = 0\n",
    "            else:\n",
    "                left_up = dp[i - 1][j - 1]\n",
    "            # 왼쪽 아래에서 오는 경우\n",
    "            if i == n - 1:\n",
    "                left_down = 0\n",
    "            else:\n",
    "                left_down = dp[i + 1][j - 1]\n",
    "            # 왼쪽에서 오는 경우\n",
    "            left = dp[i][j - 1]\n",
    "            dp[i][j] = dp[i][j] + max(left_up, left_down, left)\n",
    "\n",
    "    result = 0\n",
    "    for i in range(n):\n",
    "        result = max(result, dp[i][m - 1])\n",
    "\n",
    "    print(result)"
   ]
  },
  {
   "cell_type": "code",
   "execution_count": 63,
   "metadata": {},
   "outputs": [
    {
     "name": "stdout",
     "output_type": "stream",
     "text": [
      "10\n",
      "5 50\n",
      "4 40\n",
      "3 30\n",
      "2 20\n",
      "1 10\n",
      "1 10\n",
      "2 20\n",
      "3 30\n",
      "4 40\n",
      "5 50\n",
      "100\n"
     ]
    }
   ],
   "source": [
    "# 퇴사 못품\n",
    "n = int(input())\n",
    "schedule = [list(map(int, input().split())) for _ in range(n)]\n",
    "\n",
    "dp = [0] * n\n",
    "\n",
    "for i in range(n):\n",
    "    tot = 0\n",
    "    time = i\n",
    "    for j in range(i, n):\n",
    "        if time+schedule[j][0] > n:\n",
    "            continue\n",
    "        if time+schedule[j][0] <= n:\n",
    "            #print(\"i, j :\", i, j)\n",
    "            dp[i] += schedule[j][1]\n",
    "            time += schedule[j][0]\n",
    "            #print(\"time, dp :\", time, dp[i])\n",
    "\n",
    "print(max(dp))"
   ]
  },
  {
   "cell_type": "code",
   "execution_count": 70,
   "metadata": {},
   "outputs": [
    {
     "name": "stdout",
     "output_type": "stream",
     "text": [
      "10\n",
      "5 10\n",
      "5 9\n",
      "5 8\n",
      "5 7\n",
      "5 6\n",
      "5 10\n",
      "5 9\n",
      "5 8\n",
      "5 7\n",
      "5 6\n",
      "20\n"
     ]
    }
   ],
   "source": [
    "#퇴사\n",
    "N = int(input())\n",
    "schedule = [list(map(int, input().split())) for _ in range(N)]\n",
    "dp = [0 for i in range(N+1)]\n",
    "\n",
    "for i in range(N-1,-1,-1):\n",
    "    if i + schedule[i][0] > N:\n",
    "        dp[i] = dp[i+1]\n",
    "    else:\n",
    "        dp[i] = max(schedule[i][1] + dp[i + schedule[i][0]], dp[i+1])\n",
    "    \n",
    "print(dp[0])"
   ]
  },
  {
   "cell_type": "code",
   "execution_count": 78,
   "metadata": {},
   "outputs": [
    {
     "name": "stdout",
     "output_type": "stream",
     "text": [
      "7 \n",
      "15 11 4 8 5 2 4\n",
      "2\n"
     ]
    }
   ],
   "source": [
    "# 병사 배치하기 못품\n",
    "n = int(input())\n",
    "soldier = list(map(int, input().split()))\n",
    "\n",
    "dp = [1]*n\n",
    "\n",
    "for i in range(1, n):\n",
    "    for j in range(0, i):\n",
    "        if soldier[i] < soldier[j]:\n",
    "            dp[i] = max(dp[i], dp[j]+1)\n",
    "\n",
    "print(n - max(dp))"
   ]
  },
  {
   "cell_type": "code",
   "execution_count": 3,
   "metadata": {},
   "outputs": [
    {
     "name": "stdout",
     "output_type": "stream",
     "text": [
      "14\n",
      "[1, 2, 3, 4, 5, 6, 6, 8, 9, 10, 10, 12, 12, 14]\n"
     ]
    }
   ],
   "source": [
    "# 못생긴 수 못품\n",
    "n = int(input())\n",
    "dp = [0] * n\n",
    "\n",
    "dp[0] = 1\n",
    "dp[1] = 2\n",
    "dp[2] = 3\n",
    "for i in range(3, n):\n",
    "    dp[i] = dp[i-1]\n",
    "    for j in range(1, i):\n",
    "        if (dp[i]+j) % 2 == 0 or ((dp[i] + j) % 3 == 0) or (dp[i] + j) % 5 == 0:\n",
    "            dp[i] += j \n",
    "            if dp[i] == i+1:\n",
    "                flag = 1\n",
    "                break\n",
    "            else:\n",
    "                dp[i] -= j\n",
    "print(dp)"
   ]
  },
  {
   "cell_type": "code",
   "execution_count": 9,
   "metadata": {},
   "outputs": [
    {
     "name": "stdout",
     "output_type": "stream",
     "text": [
      "10\n",
      "next2, 3, 5 : 2 3 5\n",
      "i2, i3, i5 : 0 0 0\n",
      "next2, 3, 5 : 4 3 5\n",
      "i2, i3, i5 : 1 0 0\n",
      "next2, 3, 5 : 4 6 5\n",
      "i2, i3, i5 : 1 1 0\n",
      "next2, 3, 5 : 6 6 5\n",
      "i2, i3, i5 : 2 1 0\n",
      "next2, 3, 5 : 6 6 10\n",
      "i2, i3, i5 : 2 1 1\n",
      "next2, 3, 5 : 8 9 10\n",
      "i2, i3, i5 : 3 2 1\n",
      "next2, 3, 5 : 10 9 10\n",
      "i2, i3, i5 : 4 2 1\n",
      "next2, 3, 5 : 10 12 10\n",
      "i2, i3, i5 : 4 3 1\n",
      "next2, 3, 5 : 12 12 15\n",
      "i2, i3, i5 : 5 3 2\n",
      "12\n"
     ]
    }
   ],
   "source": [
    "# 못생긴 수\n",
    "\n",
    "n = int(input())\n",
    "\n",
    "ugly = [0] * n\n",
    "ugly[0] = 1\n",
    "\n",
    "i2 = i3 = i5 = 0\n",
    "next2, next3, next5 = 2, 3, 5\n",
    "\n",
    "for l in range(1, n):\n",
    "    ugly[l] = min(next2, next3, next5)\n",
    "    print(\"next2, 3, 5 :\", next2, next3, next5)\n",
    "    print(\"i2, i3, i5 :\", i2, i3, i5)\n",
    "    if ugly[l] == next2:\n",
    "        i2 += 1\n",
    "        next2 = ugly[i2] * 2\n",
    "        \n",
    "    if ugly[l] == next3:\n",
    "        i3 += 1\n",
    "        next3 = ugly[i3] * 3\n",
    "        \n",
    "    if ugly[l] == next5:\n",
    "        i5 += 1\n",
    "        next5 = ugly[i5] * 5\n",
    "    #print(ugly)\n",
    "    \n",
    "\n",
    "print(ugly[n-1])\n",
    "    "
   ]
  },
  {
   "cell_type": "code",
   "execution_count": 27,
   "metadata": {},
   "outputs": [
    {
     "name": "stdout",
     "output_type": "stream",
     "text": [
      "daysun\n",
      "saturday\n",
      "7\n"
     ]
    }
   ],
   "source": [
    "# 편집거리 못품\n",
    "# 최소 편집 거리(Edit Distance) 계산을 위한 다이나믹 프로그래밍\n",
    "def edit_dist(str1, str2):\n",
    "    n = len(str1)\n",
    "    m = len(str2)\n",
    "\n",
    "    # 다이나믹 프로그래밍을 위한 2차원 DP 테이블 초기화\n",
    "    dp = [[0] * (m + 1) for _ in range(n + 1)]\n",
    "\n",
    "    # DP 테이블 초기 설정\n",
    "    for i in range(1, n + 1):\n",
    "        dp[i][0] = i\n",
    "    for j in range(1, m + 1):\n",
    "        dp[0][j] = j\n",
    "    \n",
    "    # 최소 편집 거리 계산\n",
    "    for i in range(1, n + 1):\n",
    "        for j in range(1, m + 1):\n",
    "            # 문자가 같다면, 왼쪽 위에 해당하는 수를 그대로 대입\n",
    "            if str1[i - 1] == str2[j - 1]:\n",
    "                dp[i][j] = dp[i - 1][j - 1]\n",
    "            # 문자가 다르다면, 세 가지 경우 중에서 최솟값 찾기\n",
    "            else: # 삽입(왼쪽), 삭제(위쪽), 교체(왼쪽 위) 중에서 최소 비용을 찾아 대입\n",
    "                dp[i][j] = 1 + min(dp[i][j - 1], dp[i - 1][j], dp[i - 1][j - 1])\n",
    "\n",
    "    return dp[n][m]\n",
    "\n",
    "# 두 문자열을 입력 받기\n",
    "str1 = input()\n",
    "str2 = input()\n",
    "\n",
    "# 최소 편집 거리 출력\n",
    "print(edit_dist(str1, str2))"
   ]
  },
  {
   "cell_type": "code",
   "execution_count": 48,
   "metadata": {},
   "outputs": [
    {
     "name": "stdout",
     "output_type": "stream",
     "text": [
      "2\n",
      "어느 한 컴퓨터공학과 학생이 유명한 교수님을 찾아가 물었다.\n",
      "\"재귀함수가 뭔가요?\"\n",
      "\"잘 들어보게. 옛날옛날 한 산 꼭대기에 이세상 모든 지식을 통달한 선인이 있었어.\n",
      "마을 사람들은 모두 그 선인에게 수많은 질문을 했고, 모두 지혜롭게 대답해 주었지.\n",
      "그의 답은 대부분 옳았다고 하네. 그런데 어느 날, 그 선인에게 한 선비가 찾아와서 물었어.\"\n",
      "____\"재귀함수가 뭔가요?\"\n",
      "____\"잘 들어보게. 옛날옛날 한 산 꼭대기에 이세상 모든 지식을 통달한 선인이 있었어.\n",
      "____마을 사람들은 모두 그 선인에게 수많은 질문을 했고, 모두 지혜롭게 대답해 주었지.\n",
      "____그의 답은 대부분 옳았다고 하네. 그런데 어느 날, 그 선인에게 한 선비가 찾아와서 물었어.\"\n",
      "________\"재귀함수가 뭔가요?\"\n",
      "________\"재귀함수는 자기 자신을 호출하는 함수라네\"\n",
      "________라고 답변하였지.\n",
      "____라고 답변하였지.\n",
      "라고 답변하였지.\n"
     ]
    }
   ],
   "source": [
    "n = int(input())\n",
    "\n",
    "def recursion(x, n):\n",
    "    if x == n:\n",
    "        print(\"____\"*x+'\"재귀함수가 뭔가요?\"') \n",
    "        print(\"____\"*x+'\"재귀함수는 자기 자신을 호출하는 함수라네\"') \n",
    "        print(\"____\"*x+\"라고 답변하였지.\")\n",
    "    else:\n",
    "        if(x == 0):\n",
    "            print('어느 한 컴퓨터공학과 학생이 유명한 교수님을 찾아가 물었다.')\n",
    "        print(\"____\"*x + '\"재귀함수가 뭔가요?\"') \n",
    "        print(\"____\"*x + '\"잘 들어보게. 옛날옛날 한 산 꼭대기에 이세상 모든 지식을 통달한 선인이 있었어.') \n",
    "        print(\"____\"*x + '마을 사람들은 모두 그 선인에게 수많은 질문을 했고, 모두 지혜롭게 대답해 주었지.') \n",
    "        print(\"____\"*x + '그의 답은 대부분 옳았다고 하네. 그런데 어느 날, 그 선인에게 한 선비가 찾아와서 물었어.\"')\n",
    "        recursion(x+1, n)\n",
    "        print(\"____\"*x + \"라고 답변하였지.\")\n",
    "        \n",
    "recursion(0, n)"
   ]
  },
  {
   "cell_type": "code",
   "execution_count": null,
   "metadata": {},
   "outputs": [],
   "source": []
  }
 ],
 "metadata": {
  "kernelspec": {
   "display_name": "Python 3",
   "language": "python",
   "name": "python3"
  },
  "language_info": {
   "codemirror_mode": {
    "name": "ipython",
    "version": 3
   },
   "file_extension": ".py",
   "mimetype": "text/x-python",
   "name": "python",
   "nbconvert_exporter": "python",
   "pygments_lexer": "ipython3",
   "version": "3.8.5"
  }
 },
 "nbformat": 4,
 "nbformat_minor": 4
}
