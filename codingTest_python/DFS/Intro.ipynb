{
 "cells": [
  {
   "cell_type": "code",
   "execution_count": 7,
   "metadata": {},
   "outputs": [
    {
     "name": "stdout",
     "output_type": "stream",
     "text": [
      "[5, 2, 3, 7]\n",
      "7\n",
      "4\n",
      "[5, 2, 3, 1]\n",
      "1\n"
     ]
    }
   ],
   "source": [
    "# 리스트로 스택 구현\n",
    "# top은 가장 위에 있는 원소의 인덱스나 원소를 저장한다.\n",
    "s = []\n",
    "\n",
    "s.append(5)\n",
    "s.append(2)\n",
    "s.append(3)\n",
    "s.append(7)\n",
    "print(s)\n",
    "print(s.pop())\n",
    "s.append(1)\n",
    "s.append(4)\n",
    "print(s.pop())\n",
    "print(s)\n",
    "\n",
    "top = s[-1]\n",
    "print(top)"
   ]
  },
  {
   "cell_type": "code",
   "execution_count": 8,
   "metadata": {},
   "outputs": [
    {
     "name": "stdout",
     "output_type": "stream",
     "text": [
      "[5, 2, 3, 7]\n",
      "5\n",
      "2\n",
      "[3, 7, 1, 4]\n"
     ]
    }
   ],
   "source": [
    "# 큐 구현\n",
    "queue = []\n",
    "\n",
    "queue.append(5)\n",
    "queue.append(2)\n",
    "queue.append(3)\n",
    "queue.append(7)\n",
    "print(queue)\n",
    "print(queue.pop(0)) # 가장 앞에 있는 놈을 출력해준다.\n",
    "queue.append(1)\n",
    "queue.append(4)\n",
    "print(queue.pop(0))\n",
    "print(queue)"
   ]
  },
  {
   "cell_type": "code",
   "execution_count": 13,
   "metadata": {},
   "outputs": [
    {
     "name": "stdout",
     "output_type": "stream",
     "text": [
      "deque([1, 2, 3, 4, 5])\n",
      "1\n",
      "deque([2, 3, 4, 5])\n",
      "5\n",
      "deque([2, 3, 4])\n"
     ]
    }
   ],
   "source": [
    "# 덱 \n",
    "from collections import deque\n",
    "\n",
    "queue = deque([1, 2, 3, 4])\n",
    "queue.append(5)\n",
    "print(queue)\n",
    "print(queue.popleft())\n",
    "print(queue)\n",
    "print(queue.pop())\n",
    "print(queue)"
   ]
  },
  {
   "cell_type": "code",
   "execution_count": 20,
   "metadata": {},
   "outputs": [
    {
     "name": "stdout",
     "output_type": "stream",
     "text": [
      "120\n"
     ]
    }
   ],
   "source": [
    "def factorial(n):\n",
    "    if n == 1:\n",
    "        return 1\n",
    "    else:\n",
    "        n *= factorial(n-1)\n",
    "        return n\n",
    "print(factorial(5))"
   ]
  },
  {
   "cell_type": "code",
   "execution_count": 21,
   "metadata": {},
   "outputs": [
    {
     "name": "stdout",
     "output_type": "stream",
     "text": [
      "[[0, 7, 5], [7, 0, 999999999], [5, 999999999, 0]]\n"
     ]
    }
   ],
   "source": [
    "# 인접 행렬 방식 예시\n",
    "INF = 999999999\n",
    "\n",
    "graph = [\n",
    "    [0, 7, 5],\n",
    "    [7, 0, INF],\n",
    "    [5, INF, 0]\n",
    "]\n",
    "\n",
    "print(graph)"
   ]
  },
  {
   "cell_type": "code",
   "execution_count": 22,
   "metadata": {},
   "outputs": [
    {
     "name": "stdout",
     "output_type": "stream",
     "text": [
      "[[(1, 7), (2, 5)], [(0, 7)], [(0, 5)]]\n"
     ]
    }
   ],
   "source": [
    "# 인접리스트 방식\n",
    "graph = [[] for _ in range(3)]\n",
    "\n",
    "# 노드 0에 연결된 노드 정보 저장\n",
    "graph[0].append((1, 7))\n",
    "graph[0].append((2, 5))\n",
    "\n",
    "# 노드 1에 연결된 노드 정보 저장\n",
    "graph[1].append((0, 7))\n",
    "\n",
    "graph[2].append((0, 5))\n",
    "\n",
    "print(graph)"
   ]
  },
  {
   "cell_type": "code",
   "execution_count": 24,
   "metadata": {},
   "outputs": [
    {
     "name": "stdout",
     "output_type": "stream",
     "text": [
      "5 3 1 2 7 6 8 4 "
     ]
    }
   ],
   "source": [
    "# DFS 메서드 예제\n",
    "def dfs(graph, v, visited):\n",
    "    visited[v] = True\n",
    "    print(v, end= \" \")\n",
    "    \n",
    "    for i in graph[v]:\n",
    "        if not visited[i]:\n",
    "            dfs(graph, i, visited)\n",
    "\n",
    "graph = [\n",
    "    [], # 0번 노드 사용 x\n",
    "    [2, 3, 8], # 1\n",
    "    [1, 7], # 2\n",
    "    [1, 4, 5], # 3\n",
    "    [3, 5],\n",
    "    [3, 4],\n",
    "    [7],\n",
    "    [2, 6, 8],\n",
    "    [1, 7]\n",
    "]\n",
    "\n",
    "visited = [False] * 9\n",
    "\n",
    "dfs(graph, 5, visited)"
   ]
  },
  {
   "cell_type": "code",
   "execution_count": 26,
   "metadata": {},
   "outputs": [
    {
     "name": "stdout",
     "output_type": "stream",
     "text": [
      "1 2 3 8 7 4 5 6 "
     ]
    }
   ],
   "source": [
    "from collections import deque\n",
    "\n",
    "def bfs(graph, v, visited):\n",
    "    visited[v] = True\n",
    "    queue = deque([v])\n",
    "    while queue: # QUEUE가 비어있지 않을 때까지 돌아간다.\n",
    "        item = queue.popleft()\n",
    "        print(item, end =' ')\n",
    "        for i in graph[item]:\n",
    "            if not visited[i]:\n",
    "                queue.append(i)\n",
    "                visited[i] = True\n",
    "\n",
    "\n",
    "graph = [\n",
    "    [], # 0번 노드 사용 x\n",
    "    [2, 3, 8], # 1\n",
    "    [1, 7], # 2\n",
    "    [1, 4, 5], # 3\n",
    "    [3, 5],\n",
    "    [3, 4],\n",
    "    [7],\n",
    "    [2, 6, 8],\n",
    "    [1, 7]\n",
    "]\n",
    "\n",
    "visited = [False] * 9\n",
    "\n",
    "bfs(graph, 1, visited)"
   ]
  },
  {
   "cell_type": "code",
   "execution_count": null,
   "metadata": {},
   "outputs": [],
   "source": []
  }
 ],
 "metadata": {
  "kernelspec": {
   "display_name": "Python 3",
   "language": "python",
   "name": "python3"
  },
  "language_info": {
   "codemirror_mode": {
    "name": "ipython",
    "version": 3
   },
   "file_extension": ".py",
   "mimetype": "text/x-python",
   "name": "python",
   "nbconvert_exporter": "python",
   "pygments_lexer": "ipython3",
   "version": "3.8.5"
  }
 },
 "nbformat": 4,
 "nbformat_minor": 4
}
